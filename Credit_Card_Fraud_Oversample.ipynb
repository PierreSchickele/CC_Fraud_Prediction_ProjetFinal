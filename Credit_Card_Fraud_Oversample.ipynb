{
 "cells": [
  {
   "cell_type": "markdown",
   "metadata": {
    "colab_type": "text",
    "id": "imKew9_jFB95"
   },
   "source": [
    "# Credit Card Fraud"
   ]
  },
  {
   "cell_type": "markdown",
   "metadata": {},
   "source": [
    "Quels facteurs sur les transactions bancaires nous permettent de prédire une fraude à la carte bancaire ?\n",
    "\n",
    "- EDA\n",
    "- Preprocessing (ACP, feature selection)\n",
    "- Modèles :\n",
    "-* ML supervisé de classification binaire avec régression logistique, RandomForest, (régression linéaire pour les montants) ;\n",
    "-* ML non supervisé avec clustering géographique DBScan Elbow+Silhouette\n",
    "- Confrontation des résultats (quel serait le meilleur modèle pour prédire la fraude)\n",
    "- Exemple de prédiction\n",
    "- Mise en place du dashboard\n",
    "- Proposer des questions d'ouverture (pour la présentation)\n",
    "\n",
    "Si on a le temps : prédire le montant de la fraude (régression linéaire)"
   ]
  },
  {
   "cell_type": "code",
   "execution_count": 1,
   "metadata": {
    "colab": {},
    "colab_type": "code",
    "id": "75lz0VLnFdWB"
   },
   "outputs": [],
   "source": [
    "import pandas as pd\n",
    "import numpy as np\n",
    "import matplotlib.pyplot as plt\n",
    "from sklearn.model_selection import train_test_split\n",
    "from sklearn.pipeline import Pipeline\n",
    "from sklearn.impute import SimpleImputer\n",
    "from sklearn.preprocessing import  OneHotEncoder, StandardScaler, LabelEncoder\n",
    "from sklearn.compose import ColumnTransformer\n",
    "from sklearn.linear_model import LogisticRegression\n",
    "from sklearn.metrics import accuracy_score, f1_score, classification_report, RocCurveDisplay, ConfusionMatrixDisplay\n",
    "from sklearn.model_selection import cross_val_score\n",
    "from sklearn.feature_extraction.text import CountVectorizer\n",
    "from sklearn.ensemble import RandomForestClassifier\n",
    "from sklearn.model_selection import GridSearchCV\n",
    "from sklearn.svm import SVC\n",
    "\n",
    "from xgboost import XGBClassifier\n",
    "\n",
    "from imblearn.over_sampling import SMOTE, SMOTENC\n",
    "from imblearn.under_sampling import RandomUnderSampler\n",
    "from imblearn.pipeline import Pipeline as ImbPipeline\n",
    "\n",
    "import plotly.express as px\n",
    "import plotly.graph_objects as go\n",
    "import plotly.io as pio\n",
    "# setting Jedha color palette as default\n",
    "pio.templates[\"jedha\"] = go.layout.Template(\n",
    "    layout_colorway=[\"#4B9AC7\", \"#4BE8E0\", \"#9DD4F3\", \"#97FBF6\", \"#2A7FAF\", \"#23B1AB\", \"#0E3449\", \"#015955\"]\n",
    ")\n",
    "pio.templates.default = \"jedha\"\n",
    "#pio.renderers.default = \"svg\" # to be replaced by \"iframe\" if working on JULIE"
   ]
  },
  {
   "cell_type": "code",
   "execution_count": 2,
   "metadata": {
    "colab": {
     "base_uri": "https://localhost:8080/",
     "height": 195
    },
    "colab_type": "code",
    "executionInfo": {
     "elapsed": 1421,
     "status": "ok",
     "timestamp": 1588173928389,
     "user": {
      "displayName": "Philéas Samir",
      "photoUrl": "https://lh5.googleusercontent.com/-FbBGbDYQ448/AAAAAAAAAAI/AAAAAAAAAUo/cYIvd5guwHI/s64/photo.jpg",
      "userId": "10441094633115017513"
     },
     "user_tz": -120
    },
    "id": "-9-p2URQEbo3",
    "outputId": "9b8ef731-cd56-49a4-f5e9-3a3950ba930f"
   },
   "outputs": [
    {
     "data": {
      "text/html": [
       "<div>\n",
       "<style scoped>\n",
       "    .dataframe tbody tr th:only-of-type {\n",
       "        vertical-align: middle;\n",
       "    }\n",
       "\n",
       "    .dataframe tbody tr th {\n",
       "        vertical-align: top;\n",
       "    }\n",
       "\n",
       "    .dataframe thead th {\n",
       "        text-align: right;\n",
       "    }\n",
       "</style>\n",
       "<table border=\"1\" class=\"dataframe\">\n",
       "  <thead>\n",
       "    <tr style=\"text-align: right;\">\n",
       "      <th></th>\n",
       "      <th>Unnamed: 0</th>\n",
       "      <th>trans_date_trans_time</th>\n",
       "      <th>cc_num</th>\n",
       "      <th>merchant</th>\n",
       "      <th>category</th>\n",
       "      <th>amt</th>\n",
       "      <th>first</th>\n",
       "      <th>last</th>\n",
       "      <th>gender</th>\n",
       "      <th>street</th>\n",
       "      <th>...</th>\n",
       "      <th>lat</th>\n",
       "      <th>long</th>\n",
       "      <th>city_pop</th>\n",
       "      <th>job</th>\n",
       "      <th>dob</th>\n",
       "      <th>trans_num</th>\n",
       "      <th>unix_time</th>\n",
       "      <th>merch_lat</th>\n",
       "      <th>merch_long</th>\n",
       "      <th>is_fraud</th>\n",
       "    </tr>\n",
       "  </thead>\n",
       "  <tbody>\n",
       "    <tr>\n",
       "      <th>0</th>\n",
       "      <td>0</td>\n",
       "      <td>21/06/2020 12:14</td>\n",
       "      <td>2.291160e+15</td>\n",
       "      <td>fraud_Kirlin and Sons</td>\n",
       "      <td>personal_care</td>\n",
       "      <td>2.86</td>\n",
       "      <td>Jeff</td>\n",
       "      <td>Elliott</td>\n",
       "      <td>M</td>\n",
       "      <td>351 Darlene Green</td>\n",
       "      <td>...</td>\n",
       "      <td>33.9659</td>\n",
       "      <td>-80.9355</td>\n",
       "      <td>333497</td>\n",
       "      <td>Mechanical engineer</td>\n",
       "      <td>19/03/1968</td>\n",
       "      <td>2da90c7d74bd46a0caf3777415b3ebd3</td>\n",
       "      <td>1371816865</td>\n",
       "      <td>33.986391</td>\n",
       "      <td>-81.200714</td>\n",
       "      <td>0</td>\n",
       "    </tr>\n",
       "    <tr>\n",
       "      <th>1</th>\n",
       "      <td>1</td>\n",
       "      <td>21/06/2020 12:14</td>\n",
       "      <td>3.573030e+15</td>\n",
       "      <td>fraud_Sporer-Keebler</td>\n",
       "      <td>personal_care</td>\n",
       "      <td>29.84</td>\n",
       "      <td>Joanne</td>\n",
       "      <td>Williams</td>\n",
       "      <td>F</td>\n",
       "      <td>3638 Marsh Union</td>\n",
       "      <td>...</td>\n",
       "      <td>40.3207</td>\n",
       "      <td>-110.4360</td>\n",
       "      <td>302</td>\n",
       "      <td>Sales professional, IT</td>\n",
       "      <td>17/01/1990</td>\n",
       "      <td>324cc204407e99f51b0d6ca0055005e7</td>\n",
       "      <td>1371816873</td>\n",
       "      <td>39.450498</td>\n",
       "      <td>-109.960431</td>\n",
       "      <td>0</td>\n",
       "    </tr>\n",
       "    <tr>\n",
       "      <th>2</th>\n",
       "      <td>2</td>\n",
       "      <td>21/06/2020 12:14</td>\n",
       "      <td>3.598220e+15</td>\n",
       "      <td>fraud_Swaniawski, Nitzsche and Welch</td>\n",
       "      <td>health_fitness</td>\n",
       "      <td>41.28</td>\n",
       "      <td>Ashley</td>\n",
       "      <td>Lopez</td>\n",
       "      <td>F</td>\n",
       "      <td>9333 Valentine Point</td>\n",
       "      <td>...</td>\n",
       "      <td>40.6729</td>\n",
       "      <td>-73.5365</td>\n",
       "      <td>34496</td>\n",
       "      <td>Librarian, public</td>\n",
       "      <td>21/10/1970</td>\n",
       "      <td>c81755dbbbea9d5c77f094348a7579be</td>\n",
       "      <td>1371816893</td>\n",
       "      <td>40.495810</td>\n",
       "      <td>-74.196111</td>\n",
       "      <td>0</td>\n",
       "    </tr>\n",
       "    <tr>\n",
       "      <th>3</th>\n",
       "      <td>3</td>\n",
       "      <td>21/06/2020 12:15</td>\n",
       "      <td>3.591920e+15</td>\n",
       "      <td>fraud_Haley Group</td>\n",
       "      <td>misc_pos</td>\n",
       "      <td>60.05</td>\n",
       "      <td>Brian</td>\n",
       "      <td>Williams</td>\n",
       "      <td>M</td>\n",
       "      <td>32941 Krystal Mill Apt. 552</td>\n",
       "      <td>...</td>\n",
       "      <td>28.5697</td>\n",
       "      <td>-80.8191</td>\n",
       "      <td>54767</td>\n",
       "      <td>Set designer</td>\n",
       "      <td>25/07/1987</td>\n",
       "      <td>2159175b9efe66dc301f149d3d5abf8c</td>\n",
       "      <td>1371816915</td>\n",
       "      <td>28.812398</td>\n",
       "      <td>-80.883061</td>\n",
       "      <td>0</td>\n",
       "    </tr>\n",
       "    <tr>\n",
       "      <th>4</th>\n",
       "      <td>4</td>\n",
       "      <td>21/06/2020 12:15</td>\n",
       "      <td>3.526830e+15</td>\n",
       "      <td>fraud_Johnston-Casper</td>\n",
       "      <td>travel</td>\n",
       "      <td>3.19</td>\n",
       "      <td>Nathan</td>\n",
       "      <td>Massey</td>\n",
       "      <td>M</td>\n",
       "      <td>5783 Evan Roads Apt. 465</td>\n",
       "      <td>...</td>\n",
       "      <td>44.2529</td>\n",
       "      <td>-85.0170</td>\n",
       "      <td>1126</td>\n",
       "      <td>Furniture designer</td>\n",
       "      <td>06/07/1955</td>\n",
       "      <td>57ff021bd3f328f8738bb535c302a31b</td>\n",
       "      <td>1371816917</td>\n",
       "      <td>44.959148</td>\n",
       "      <td>-85.884734</td>\n",
       "      <td>0</td>\n",
       "    </tr>\n",
       "  </tbody>\n",
       "</table>\n",
       "<p>5 rows × 23 columns</p>\n",
       "</div>"
      ],
      "text/plain": [
       "   Unnamed: 0 trans_date_trans_time        cc_num  \\\n",
       "0           0      21/06/2020 12:14  2.291160e+15   \n",
       "1           1      21/06/2020 12:14  3.573030e+15   \n",
       "2           2      21/06/2020 12:14  3.598220e+15   \n",
       "3           3      21/06/2020 12:15  3.591920e+15   \n",
       "4           4      21/06/2020 12:15  3.526830e+15   \n",
       "\n",
       "                               merchant        category    amt   first  \\\n",
       "0                 fraud_Kirlin and Sons   personal_care   2.86    Jeff   \n",
       "1                  fraud_Sporer-Keebler   personal_care  29.84  Joanne   \n",
       "2  fraud_Swaniawski, Nitzsche and Welch  health_fitness  41.28  Ashley   \n",
       "3                     fraud_Haley Group        misc_pos  60.05   Brian   \n",
       "4                 fraud_Johnston-Casper          travel   3.19  Nathan   \n",
       "\n",
       "       last gender                       street  ...      lat      long  \\\n",
       "0   Elliott      M            351 Darlene Green  ...  33.9659  -80.9355   \n",
       "1  Williams      F             3638 Marsh Union  ...  40.3207 -110.4360   \n",
       "2     Lopez      F         9333 Valentine Point  ...  40.6729  -73.5365   \n",
       "3  Williams      M  32941 Krystal Mill Apt. 552  ...  28.5697  -80.8191   \n",
       "4    Massey      M     5783 Evan Roads Apt. 465  ...  44.2529  -85.0170   \n",
       "\n",
       "   city_pop                     job         dob  \\\n",
       "0    333497     Mechanical engineer  19/03/1968   \n",
       "1       302  Sales professional, IT  17/01/1990   \n",
       "2     34496       Librarian, public  21/10/1970   \n",
       "3     54767            Set designer  25/07/1987   \n",
       "4      1126      Furniture designer  06/07/1955   \n",
       "\n",
       "                          trans_num   unix_time  merch_lat  merch_long  \\\n",
       "0  2da90c7d74bd46a0caf3777415b3ebd3  1371816865  33.986391  -81.200714   \n",
       "1  324cc204407e99f51b0d6ca0055005e7  1371816873  39.450498 -109.960431   \n",
       "2  c81755dbbbea9d5c77f094348a7579be  1371816893  40.495810  -74.196111   \n",
       "3  2159175b9efe66dc301f149d3d5abf8c  1371816915  28.812398  -80.883061   \n",
       "4  57ff021bd3f328f8738bb535c302a31b  1371816917  44.959148  -85.884734   \n",
       "\n",
       "   is_fraud  \n",
       "0         0  \n",
       "1         0  \n",
       "2         0  \n",
       "3         0  \n",
       "4         0  \n",
       "\n",
       "[5 rows x 23 columns]"
      ]
     },
     "execution_count": 2,
     "metadata": {},
     "output_type": "execute_result"
    }
   ],
   "source": [
    "data = pd.read_csv('src/fraud test.csv')\n",
    "data.head()"
   ]
  },
  {
   "cell_type": "markdown",
   "metadata": {},
   "source": [
    "#### Cleansing"
   ]
  },
  {
   "cell_type": "code",
   "execution_count": 3,
   "metadata": {},
   "outputs": [],
   "source": [
    "def data_cleanse(data_sample):\n",
    "    '''On retire les colonnes qui ne sont pas pertinentes\n",
    "        cc_num, trans_num, first, last et {city, state, street, zip} = infos individuelles trop de valeurs différentes\n",
    "        merchant = idem\n",
    "        Unnamed: 0 = index, des identifiants donc à supprimer\n",
    "        unix_time = temps Unix, redondant'''\n",
    "    colonne_a_retirer = ['cc_num', 'first', 'last', 'city', 'state', 'street', 'zip', 'trans_num', 'Unnamed: 0', 'merchant', 'unix_time', 'lat', 'long']\n",
    "    df = data_sample.drop(colonne_a_retirer, axis=1)\n",
    "    df[\"trans_date_trans_time\"]=pd.to_datetime(df[\"trans_date_trans_time\"], format= \"%d/%m/%Y %H:%M\")\n",
    "    df[\"dob\"]=pd.to_datetime(df[\"dob\"], format= \"%d/%m/%Y\")\n",
    "\n",
    "    annee_actuelle = pd.Timestamp.now().year\n",
    "    df['age'] = annee_actuelle - df[\"dob\"].dt.year\n",
    "\n",
    "    df[\"day_of_the_week\"]=df[\"trans_date_trans_time\"].dt.weekday\n",
    "    df[\"month\"]=df[\"trans_date_trans_time\"].dt.month\n",
    "    df[\"day\"]=df[\"trans_date_trans_time\"].dt.day\n",
    "    df[\"year\"]=df[\"trans_date_trans_time\"].dt.year\n",
    "    df[\"hour\"]=df[\"trans_date_trans_time\"].dt.hour\n",
    "\n",
    "    colonne_a_retirer = ['trans_date_trans_time', 'dob']\n",
    "    df = df.drop(colonne_a_retirer, axis=1)\n",
    "    return df"
   ]
  },
  {
   "cell_type": "markdown",
   "metadata": {},
   "source": [
    "#### Sample"
   ]
  },
  {
   "cell_type": "code",
   "execution_count": 5,
   "metadata": {},
   "outputs": [],
   "source": [
    "data_sample = data.sample(frac=0.1, random_state=0)\n",
    "df = data_cleanse(data_sample)"
   ]
  },
  {
   "cell_type": "code",
   "execution_count": 6,
   "metadata": {},
   "outputs": [
    {
     "data": {
      "text/html": [
       "<div>\n",
       "<style scoped>\n",
       "    .dataframe tbody tr th:only-of-type {\n",
       "        vertical-align: middle;\n",
       "    }\n",
       "\n",
       "    .dataframe tbody tr th {\n",
       "        vertical-align: top;\n",
       "    }\n",
       "\n",
       "    .dataframe thead th {\n",
       "        text-align: right;\n",
       "    }\n",
       "</style>\n",
       "<table border=\"1\" class=\"dataframe\">\n",
       "  <thead>\n",
       "    <tr style=\"text-align: right;\">\n",
       "      <th></th>\n",
       "      <th>category</th>\n",
       "      <th>amt</th>\n",
       "      <th>gender</th>\n",
       "      <th>city_pop</th>\n",
       "      <th>job</th>\n",
       "      <th>merch_lat</th>\n",
       "      <th>merch_long</th>\n",
       "      <th>is_fraud</th>\n",
       "      <th>age</th>\n",
       "      <th>day_of_the_week</th>\n",
       "      <th>month</th>\n",
       "      <th>day</th>\n",
       "      <th>year</th>\n",
       "      <th>hour</th>\n",
       "    </tr>\n",
       "  </thead>\n",
       "  <tbody>\n",
       "    <tr>\n",
       "      <th>102051</th>\n",
       "      <td>grocery_pos</td>\n",
       "      <td>218.76</td>\n",
       "      <td>F</td>\n",
       "      <td>3285</td>\n",
       "      <td>Research officer, trade union</td>\n",
       "      <td>40.153684</td>\n",
       "      <td>-73.445235</td>\n",
       "      <td>0</td>\n",
       "      <td>36</td>\n",
       "      <td>0</td>\n",
       "      <td>7</td>\n",
       "      <td>27</td>\n",
       "      <td>2020</td>\n",
       "      <td>1</td>\n",
       "    </tr>\n",
       "    <tr>\n",
       "      <th>270705</th>\n",
       "      <td>grocery_net</td>\n",
       "      <td>48.83</td>\n",
       "      <td>M</td>\n",
       "      <td>95</td>\n",
       "      <td>Electrical engineer</td>\n",
       "      <td>46.699574</td>\n",
       "      <td>-84.995269</td>\n",
       "      <td>0</td>\n",
       "      <td>30</td>\n",
       "      <td>1</td>\n",
       "      <td>9</td>\n",
       "      <td>29</td>\n",
       "      <td>2020</td>\n",
       "      <td>10</td>\n",
       "    </tr>\n",
       "    <tr>\n",
       "      <th>308877</th>\n",
       "      <td>home</td>\n",
       "      <td>70.86</td>\n",
       "      <td>M</td>\n",
       "      <td>1201</td>\n",
       "      <td>Engineer, agricultural</td>\n",
       "      <td>36.439648</td>\n",
       "      <td>-92.203914</td>\n",
       "      <td>0</td>\n",
       "      <td>44</td>\n",
       "      <td>4</td>\n",
       "      <td>10</td>\n",
       "      <td>16</td>\n",
       "      <td>2020</td>\n",
       "      <td>14</td>\n",
       "    </tr>\n",
       "    <tr>\n",
       "      <th>465523</th>\n",
       "      <td>misc_pos</td>\n",
       "      <td>4.74</td>\n",
       "      <td>M</td>\n",
       "      <td>23805</td>\n",
       "      <td>Copy</td>\n",
       "      <td>41.901153</td>\n",
       "      <td>-83.097443</td>\n",
       "      <td>0</td>\n",
       "      <td>54</td>\n",
       "      <td>5</td>\n",
       "      <td>12</td>\n",
       "      <td>12</td>\n",
       "      <td>2020</td>\n",
       "      <td>9</td>\n",
       "    </tr>\n",
       "    <tr>\n",
       "      <th>358267</th>\n",
       "      <td>shopping_pos</td>\n",
       "      <td>9.75</td>\n",
       "      <td>F</td>\n",
       "      <td>1766</td>\n",
       "      <td>Press sub</td>\n",
       "      <td>30.197385</td>\n",
       "      <td>-98.101702</td>\n",
       "      <td>0</td>\n",
       "      <td>48</td>\n",
       "      <td>5</td>\n",
       "      <td>11</td>\n",
       "      <td>7</td>\n",
       "      <td>2020</td>\n",
       "      <td>12</td>\n",
       "    </tr>\n",
       "  </tbody>\n",
       "</table>\n",
       "</div>"
      ],
      "text/plain": [
       "            category     amt gender  city_pop                            job  \\\n",
       "102051   grocery_pos  218.76      F      3285  Research officer, trade union   \n",
       "270705   grocery_net   48.83      M        95            Electrical engineer   \n",
       "308877          home   70.86      M      1201         Engineer, agricultural   \n",
       "465523      misc_pos    4.74      M     23805                           Copy   \n",
       "358267  shopping_pos    9.75      F      1766                      Press sub   \n",
       "\n",
       "        merch_lat  merch_long  is_fraud  age  day_of_the_week  month  day  \\\n",
       "102051  40.153684  -73.445235         0   36                0      7   27   \n",
       "270705  46.699574  -84.995269         0   30                1      9   29   \n",
       "308877  36.439648  -92.203914         0   44                4     10   16   \n",
       "465523  41.901153  -83.097443         0   54                5     12   12   \n",
       "358267  30.197385  -98.101702         0   48                5     11    7   \n",
       "\n",
       "        year  hour  \n",
       "102051  2020     1  \n",
       "270705  2020    10  \n",
       "308877  2020    14  \n",
       "465523  2020     9  \n",
       "358267  2020    12  "
      ]
     },
     "execution_count": 6,
     "metadata": {},
     "output_type": "execute_result"
    }
   ],
   "source": [
    "df.head()"
   ]
  },
  {
   "cell_type": "markdown",
   "metadata": {},
   "source": [
    "### Model selection evaluation"
   ]
  },
  {
   "cell_type": "markdown",
   "metadata": {},
   "source": [
    "#### Preprocessings"
   ]
  },
  {
   "cell_type": "markdown",
   "metadata": {},
   "source": [
    "On reprend les preprocessings du baseline model"
   ]
  },
  {
   "cell_type": "code",
   "execution_count": 7,
   "metadata": {},
   "outputs": [],
   "source": [
    "categorical_features = ['category', 'gender']\n",
    "numerical_features = ['age', 'day', 'month', 'day_of_the_week', 'city_pop', 'merch_lat', 'merch_long', 'amt']\n",
    "features = categorical_features + numerical_features\n",
    "target = 'is_fraud'\n",
    "\n",
    "X = df.loc[:,features]\n",
    "y = df.loc[:,target]"
   ]
  },
  {
   "cell_type": "markdown",
   "metadata": {},
   "source": [
    "#### Régression logistique"
   ]
  },
  {
   "cell_type": "code",
   "execution_count": 8,
   "metadata": {},
   "outputs": [],
   "source": [
    "X_train, X_valtest, y_train, y_valtest = train_test_split(X, y, train_size=0.7, random_state=0, stratify=y)\n",
    "X_val, X_test, y_val, y_test = train_test_split(X_valtest, y_valtest, test_size=0.5, random_state=0, stratify=y_valtest)"
   ]
  },
  {
   "cell_type": "code",
   "execution_count": 9,
   "metadata": {},
   "outputs": [],
   "source": [
    "categorical_transformer = OneHotEncoder(drop=\"first\")\n",
    "\n",
    "numeric_transformer = StandardScaler()\n",
    "\n",
    "preprocessor = ColumnTransformer(transformers=[\n",
    "    ('categorical', categorical_transformer, categorical_features),\n",
    "    ('numerical', numeric_transformer, numerical_features)\n",
    "])\n",
    "\n",
    "smotenc = SMOTENC(categorical_features=[0, 1])\n",
    "\n",
    "pipeline_reglog = ImbPipeline([(\"preprocessor\", preprocessor),\n",
    "                        (\"smote\", smotenc),\n",
    "                        (\"classifier\", LogisticRegression(class_weight='balanced', max_iter=1000))])\n",
    "pipeline_reglog.fit(X_train, y_train)\n",
    "\n",
    "y_train_pred = pipeline_reglog.predict(X_train)\n",
    "y_val_pred = pipeline_reglog.predict(X_val)"
   ]
  },
  {
   "cell_type": "code",
   "execution_count": 10,
   "metadata": {},
   "outputs": [
    {
     "name": "stdout",
     "output_type": "stream",
     "text": [
      "              precision    recall  f1-score   support\n",
      "\n",
      "           0       1.00      0.87      0.93     38751\n",
      "           1       0.02      0.78      0.04       149\n",
      "\n",
      "    accuracy                           0.87     38900\n",
      "   macro avg       0.51      0.82      0.49     38900\n",
      "weighted avg       1.00      0.87      0.92     38900\n",
      "\n",
      "              precision    recall  f1-score   support\n",
      "\n",
      "           0       1.00      0.87      0.93      8304\n",
      "           1       0.02      0.75      0.04        32\n",
      "\n",
      "    accuracy                           0.87      8336\n",
      "   macro avg       0.51      0.81      0.48      8336\n",
      "weighted avg       1.00      0.87      0.92      8336\n",
      "\n"
     ]
    }
   ],
   "source": [
    "print(classification_report(y_train, y_train_pred))\n",
    "print(classification_report(y_val, y_val_pred))"
   ]
  },
  {
   "cell_type": "markdown",
   "metadata": {},
   "source": [
    "#### RandomForest"
   ]
  },
  {
   "cell_type": "code",
   "execution_count": 20,
   "metadata": {},
   "outputs": [],
   "source": [
    "X_train, X_valtest, y_train, y_valtest = train_test_split(X, y, train_size=0.7, random_state=0, stratify=y)\n",
    "X_val, X_test, y_val, y_test = train_test_split(X_valtest, y_valtest, test_size=0.5, random_state=0, stratify=y_valtest)"
   ]
  },
  {
   "cell_type": "code",
   "execution_count": 21,
   "metadata": {},
   "outputs": [
    {
     "name": "stdout",
     "output_type": "stream",
     "text": [
      "              precision    recall  f1-score   support\n",
      "\n",
      "           0       1.00      1.00      1.00     38751\n",
      "           1       0.65      0.82      0.72       149\n",
      "\n",
      "    accuracy                           1.00     38900\n",
      "   macro avg       0.82      0.91      0.86     38900\n",
      "weighted avg       1.00      1.00      1.00     38900\n",
      "\n",
      "              precision    recall  f1-score   support\n",
      "\n",
      "           0       1.00      1.00      1.00      8304\n",
      "           1       0.67      0.50      0.57        32\n",
      "\n",
      "    accuracy                           1.00      8336\n",
      "   macro avg       0.83      0.75      0.78      8336\n",
      "weighted avg       1.00      1.00      1.00      8336\n",
      "\n"
     ]
    }
   ],
   "source": [
    "categorical_transformer = OneHotEncoder(drop=\"first\")\n",
    "\n",
    "numeric_transformer = StandardScaler()\n",
    "\n",
    "preprocessor = ColumnTransformer(transformers=[\n",
    "    ('categorical', categorical_transformer, categorical_features),\n",
    "    ('numerical', numeric_transformer, numerical_features)\n",
    "])\n",
    "\n",
    "smotenc = SMOTENC(categorical_features=[0, 1])\n",
    "\n",
    "pipeline_rf = ImbPipeline([(\"preprocessor\", preprocessor),\n",
    "                           (\"smote\", smotenc),\n",
    "                           (\"classifier\", RandomForestClassifier(class_weight='balanced',\n",
    "                                                                 max_depth=15,\n",
    "                                                                 min_samples_leaf=5,\n",
    "                                                                 min_samples_split=16))])\n",
    "pipeline_rf.fit(X_train, y_train)\n",
    "\n",
    "y_train_pred = pipeline_rf.predict(X_train)\n",
    "y_val_pred = pipeline_rf.predict(X_val)\n",
    "print(classification_report(y_train, y_train_pred))\n",
    "print(classification_report(y_val, y_val_pred))"
   ]
  },
  {
   "cell_type": "markdown",
   "metadata": {},
   "source": [
    "#### SVM"
   ]
  },
  {
   "cell_type": "code",
   "execution_count": 13,
   "metadata": {},
   "outputs": [],
   "source": [
    "X_train, X_valtest, y_train, y_valtest = train_test_split(X, y, train_size=0.7, random_state=0, stratify=y)\n",
    "X_val, X_test, y_val, y_test = train_test_split(X_valtest, y_valtest, test_size=0.5, random_state=0, stratify=y_valtest)"
   ]
  },
  {
   "cell_type": "code",
   "execution_count": 14,
   "metadata": {},
   "outputs": [
    {
     "name": "stdout",
     "output_type": "stream",
     "text": [
      "              precision    recall  f1-score   support\n",
      "\n",
      "           0       1.00      0.98      0.99     38751\n",
      "           1       0.17      0.93      0.28       149\n",
      "\n",
      "    accuracy                           0.98     38900\n",
      "   macro avg       0.58      0.95      0.64     38900\n",
      "weighted avg       1.00      0.98      0.99     38900\n",
      "\n",
      "              precision    recall  f1-score   support\n",
      "\n",
      "           0       1.00      0.98      0.99      8304\n",
      "           1       0.09      0.50      0.15        32\n",
      "\n",
      "    accuracy                           0.98      8336\n",
      "   macro avg       0.54      0.74      0.57      8336\n",
      "weighted avg       0.99      0.98      0.99      8336\n",
      "\n"
     ]
    }
   ],
   "source": [
    "categorical_transformer = OneHotEncoder(drop=\"first\")\n",
    "\n",
    "numeric_transformer = StandardScaler()\n",
    "\n",
    "preprocessor = ColumnTransformer(transformers=[\n",
    "    ('categorical', categorical_transformer, categorical_features),\n",
    "    ('numerical', numeric_transformer, numerical_features)\n",
    "])\n",
    "\n",
    "smotenc = SMOTENC(categorical_features=[0, 1])\n",
    "\n",
    "pipeline_svc = ImbPipeline([(\"preprocessor\", preprocessor),\n",
    "                        (\"smote\", smotenc),\n",
    "                        (\"classifier\", SVC(class_weight='balanced'))])\n",
    "pipeline_svc.fit(X_train, y_train)\n",
    "\n",
    "y_train_pred = pipeline_svc.predict(X_train)\n",
    "y_val_pred = pipeline_svc.predict(X_val)\n",
    "print(classification_report(y_train, y_train_pred))\n",
    "print(classification_report(y_val, y_val_pred))"
   ]
  },
  {
   "cell_type": "markdown",
   "metadata": {},
   "source": [
    "#### SVM (gridsearch)"
   ]
  },
  {
   "cell_type": "code",
   "execution_count": 15,
   "metadata": {},
   "outputs": [],
   "source": [
    "X_train, X_valtest, y_train, y_valtest = train_test_split(X, y, train_size=0.7, random_state=0, stratify=y)\n",
    "X_val, X_test, y_val, y_test = train_test_split(X_valtest, y_valtest, test_size=0.5, random_state=0, stratify=y_valtest)"
   ]
  },
  {
   "cell_type": "code",
   "execution_count": 16,
   "metadata": {},
   "outputs": [
    {
     "name": "stdout",
     "output_type": "stream",
     "text": [
      "Best parameters: {'classifier__C': 10}\n",
      "Best cross-validation score: 0.26\n"
     ]
    }
   ],
   "source": [
    "categorical_transformer = OneHotEncoder(drop=\"first\")\n",
    "\n",
    "numeric_transformer = StandardScaler()\n",
    "\n",
    "preprocessor = ColumnTransformer(transformers=[\n",
    "    ('categorical', categorical_transformer, categorical_features),\n",
    "    ('numerical', numeric_transformer, numerical_features)\n",
    "])\n",
    "\n",
    "smotenc = SMOTENC(categorical_features=[0, 1])\n",
    "\n",
    "pipeline = ImbPipeline([(\"preprocessor\", preprocessor),\n",
    "                        (\"smote\", smotenc),\n",
    "                        (\"classifier\", SVC(class_weight='balanced'))])\n",
    "\n",
    "# Paramètres à tester\n",
    "param_grid = {\n",
    "    'classifier__C': [0.1, 1, 10],\n",
    "}\n",
    "\n",
    "# Création et exécution de la recherche par grille\n",
    "gridsearch = GridSearchCV(pipeline, param_grid, cv=5, scoring='f1')\n",
    "gridsearch.fit(X_train, y_train)\n",
    "\n",
    "y_train_pred = gridsearch.predict(X_train)\n",
    "y_val_pred = gridsearch.predict(X_val)\n",
    "print(\"Best parameters:\", gridsearch.best_params_)\n",
    "print(\"Best cross-validation score: {:.2f}\".format(gridsearch.best_score_))"
   ]
  },
  {
   "cell_type": "code",
   "execution_count": 17,
   "metadata": {},
   "outputs": [
    {
     "name": "stdout",
     "output_type": "stream",
     "text": [
      "              precision    recall  f1-score   support\n",
      "\n",
      "           0       1.00      0.99      1.00     38751\n",
      "           1       0.34      0.95      0.50       149\n",
      "\n",
      "    accuracy                           0.99     38900\n",
      "   macro avg       0.67      0.97      0.75     38900\n",
      "weighted avg       1.00      0.99      0.99     38900\n",
      "\n",
      "              precision    recall  f1-score   support\n",
      "\n",
      "           0       1.00      0.99      0.99      8304\n",
      "           1       0.16      0.47      0.24        32\n",
      "\n",
      "    accuracy                           0.99      8336\n",
      "   macro avg       0.58      0.73      0.62      8336\n",
      "weighted avg       0.99      0.99      0.99      8336\n",
      "\n"
     ]
    }
   ],
   "source": [
    "print(classification_report(y_train, y_train_pred))\n",
    "print(classification_report(y_val, y_val_pred))"
   ]
  },
  {
   "cell_type": "markdown",
   "metadata": {},
   "source": [
    "#### Reprise du Random Forest en ajoutant la feature \"hour\""
   ]
  },
  {
   "cell_type": "code",
   "execution_count": 69,
   "metadata": {},
   "outputs": [
    {
     "name": "stdout",
     "output_type": "stream",
     "text": [
      "              precision    recall  f1-score   support\n",
      "\n",
      "           0       1.00      1.00      1.00     38732\n",
      "           1       1.00      1.00      1.00     38732\n",
      "\n",
      "    accuracy                           1.00     77464\n",
      "   macro avg       1.00      1.00      1.00     77464\n",
      "weighted avg       1.00      1.00      1.00     77464\n",
      "\n",
      "              precision    recall  f1-score   support\n",
      "\n",
      "           0       1.00      1.00      1.00     16600\n",
      "           1       0.41      0.65      0.50        72\n",
      "\n",
      "    accuracy                           0.99     16672\n",
      "   macro avg       0.70      0.82      0.75     16672\n",
      "weighted avg       1.00      0.99      1.00     16672\n",
      "\n"
     ]
    }
   ],
   "source": [
    "data_sample = data.sample(frac=0.1, random_state=1)\n",
    "df = data_cleanse(data_sample)\n",
    "\n",
    "categorical_features = ['category', 'gender']\n",
    "numerical_features = ['age', 'hour', 'day', 'month', 'day_of_the_week', 'city_pop', 'merch_lat', 'merch_long', 'amt']\n",
    "features = categorical_features + numerical_features\n",
    "target = 'is_fraud'\n",
    "\n",
    "X = df.loc[:,features]\n",
    "y = df.loc[:,target]\n",
    "\n",
    "categorical_transformer = OneHotEncoder(drop=\"first\")\n",
    "\n",
    "numeric_transformer = StandardScaler()\n",
    "\n",
    "preprocessor = ColumnTransformer(transformers=[\n",
    "    ('categorical', categorical_transformer, categorical_features),\n",
    "    ('numerical', numeric_transformer, numerical_features)\n",
    "])\n",
    "\n",
    "X_train, X_test, y_train, y_test = train_test_split(X, y, train_size=0.7, random_state=0, stratify=y)\n",
    "\n",
    "smotenc = SMOTENC(categorical_features=[0, 1])\n",
    "\n",
    "X_train = preprocessor.fit_transform(X_train)\n",
    "X_test = preprocessor.transform(X_test)\n",
    "\n",
    "X_train, y_train = smotenc.fit_resample(X_train, y_train)\n",
    "\n",
    "classifier = RandomForestClassifier(class_weight='balanced',\n",
    "                                    max_depth=12,\n",
    "                                    min_samples_leaf=15,\n",
    "                                    min_samples_split=16,\n",
    "                                    n_estimators=100)\n",
    "\n",
    "classifier.fit(X_train, y_train)\n",
    "\n",
    "y_train_pred = classifier.predict(X_train)\n",
    "y_test_pred = classifier.predict(X_test)\n",
    "print(classification_report(y_train, y_train_pred))\n",
    "print(classification_report(y_test, y_test_pred))"
   ]
  },
  {
   "cell_type": "code",
   "execution_count": 49,
   "metadata": {},
   "outputs": [
    {
     "data": {
      "image/png": "[encoded data removed]",
      "text/plain": [
       "<Figure size 640x480 with 2 Axes>"
      ]
     },
     "metadata": {},
     "output_type": "display_data"
    },
    {
     "data": {
      "image/png": "[encoded data removed]",
      "text/plain": [
       "<Figure size 640x480 with 2 Axes>"
      ]
     },
     "metadata": {},
     "output_type": "display_data"
    }
   ],
   "source": [
    "# Visualize confusion matrices\n",
    "_ , ax = plt.subplots() # Get subplot from matplotlib\n",
    "ax.set(title=\"Confusion Matrix on Train set\") # Set a title that we will add into ConfusionMatrixDisplay\n",
    "ConfusionMatrixDisplay.from_estimator(classifier, X_train, y_train, ax=ax) # ConfusionMatrixDisplay from sklearn\n",
    "plt.show()\n",
    "\n",
    "_ , ax = plt.subplots() # Get subplot from matplotlib\n",
    "ax.set(title=\"Confusion Matrix on Test set\") # Set a title that we will add into ConfusionMatrixDisplay\n",
    "ConfusionMatrixDisplay.from_estimator(classifier, X_test, y_test, ax=ax) # ConfusionMatrixDisplay from sklearn\n",
    "plt.show()"
   ]
  },
  {
   "cell_type": "markdown",
   "metadata": {},
   "source": [
    "#### Sur le dataset complet"
   ]
  },
  {
   "cell_type": "markdown",
   "metadata": {},
   "source": [
    "- Ne pas sample\n",
    "- Train test split : en train + test\n",
    "- Gridsearch sur RandomForest\n",
    "- Faire de même pour XGBoost\n",
    "- Pipeline : sur le train, data augmentation ; mais sur le test, même pipeline sauf la data augmentation\n",
    "- data augmentation : fit uniquement ?\n",
    "\n",
    "- Si trop de temps : train val test split\n",
    "- Val set intéressant pour le GridSearch pour rechercher les hyperparamètres"
   ]
  },
  {
   "cell_type": "code",
   "execution_count": 70,
   "metadata": {},
   "outputs": [],
   "source": [
    "data_sample = data.sample(frac=1., random_state=33)"
   ]
  },
  {
   "cell_type": "code",
   "execution_count": 71,
   "metadata": {},
   "outputs": [],
   "source": [
    "df = data_cleanse(data_sample)\n",
    "\n",
    "categorical_features = ['category', 'gender']\n",
    "numerical_features = ['age', 'hour', 'day', 'month', 'day_of_the_week', 'city_pop', 'merch_lat', 'merch_long', 'amt']\n",
    "features = categorical_features + numerical_features\n",
    "target = 'is_fraud'\n",
    "\n",
    "X = df.loc[:,features]\n",
    "y = df.loc[:,target]"
   ]
  },
  {
   "cell_type": "code",
   "execution_count": 72,
   "metadata": {},
   "outputs": [
    {
     "data": {
      "text/html": [
       "<div>\n",
       "<style scoped>\n",
       "    .dataframe tbody tr th:only-of-type {\n",
       "        vertical-align: middle;\n",
       "    }\n",
       "\n",
       "    .dataframe tbody tr th {\n",
       "        vertical-align: top;\n",
       "    }\n",
       "\n",
       "    .dataframe thead th {\n",
       "        text-align: right;\n",
       "    }\n",
       "</style>\n",
       "<table border=\"1\" class=\"dataframe\">\n",
       "  <thead>\n",
       "    <tr style=\"text-align: right;\">\n",
       "      <th></th>\n",
       "      <th>category</th>\n",
       "      <th>gender</th>\n",
       "      <th>age</th>\n",
       "      <th>hour</th>\n",
       "      <th>day</th>\n",
       "      <th>month</th>\n",
       "      <th>day_of_the_week</th>\n",
       "      <th>city_pop</th>\n",
       "      <th>merch_lat</th>\n",
       "      <th>merch_long</th>\n",
       "      <th>amt</th>\n",
       "    </tr>\n",
       "  </thead>\n",
       "  <tbody>\n",
       "    <tr>\n",
       "      <th>190013</th>\n",
       "      <td>home</td>\n",
       "      <td>M</td>\n",
       "      <td>40</td>\n",
       "      <td>16</td>\n",
       "      <td>26</td>\n",
       "      <td>8</td>\n",
       "      <td>2</td>\n",
       "      <td>207410</td>\n",
       "      <td>39.453417</td>\n",
       "      <td>-77.097096</td>\n",
       "      <td>16.40</td>\n",
       "    </tr>\n",
       "    <tr>\n",
       "      <th>478823</th>\n",
       "      <td>personal_care</td>\n",
       "      <td>M</td>\n",
       "      <td>21</td>\n",
       "      <td>20</td>\n",
       "      <td>14</td>\n",
       "      <td>12</td>\n",
       "      <td>0</td>\n",
       "      <td>5666</td>\n",
       "      <td>31.756447</td>\n",
       "      <td>-83.186188</td>\n",
       "      <td>1.24</td>\n",
       "    </tr>\n",
       "    <tr>\n",
       "      <th>55737</th>\n",
       "      <td>health_fitness</td>\n",
       "      <td>M</td>\n",
       "      <td>38</td>\n",
       "      <td>18</td>\n",
       "      <td>10</td>\n",
       "      <td>7</td>\n",
       "      <td>4</td>\n",
       "      <td>2501</td>\n",
       "      <td>33.792156</td>\n",
       "      <td>-93.656204</td>\n",
       "      <td>17.88</td>\n",
       "    </tr>\n",
       "    <tr>\n",
       "      <th>240568</th>\n",
       "      <td>kids_pets</td>\n",
       "      <td>F</td>\n",
       "      <td>49</td>\n",
       "      <td>21</td>\n",
       "      <td>15</td>\n",
       "      <td>9</td>\n",
       "      <td>1</td>\n",
       "      <td>320420</td>\n",
       "      <td>39.784314</td>\n",
       "      <td>-105.568555</td>\n",
       "      <td>13.04</td>\n",
       "    </tr>\n",
       "    <tr>\n",
       "      <th>234197</th>\n",
       "      <td>home</td>\n",
       "      <td>F</td>\n",
       "      <td>52</td>\n",
       "      <td>21</td>\n",
       "      <td>13</td>\n",
       "      <td>9</td>\n",
       "      <td>6</td>\n",
       "      <td>11256</td>\n",
       "      <td>38.191697</td>\n",
       "      <td>-123.155185</td>\n",
       "      <td>30.53</td>\n",
       "    </tr>\n",
       "  </tbody>\n",
       "</table>\n",
       "</div>"
      ],
      "text/plain": [
       "              category gender  age  hour  day  month  day_of_the_week  \\\n",
       "190013            home      M   40    16   26      8                2   \n",
       "478823   personal_care      M   21    20   14     12                0   \n",
       "55737   health_fitness      M   38    18   10      7                4   \n",
       "240568       kids_pets      F   49    21   15      9                1   \n",
       "234197            home      F   52    21   13      9                6   \n",
       "\n",
       "        city_pop  merch_lat  merch_long    amt  \n",
       "190013    207410  39.453417  -77.097096  16.40  \n",
       "478823      5666  31.756447  -83.186188   1.24  \n",
       "55737       2501  33.792156  -93.656204  17.88  \n",
       "240568    320420  39.784314 -105.568555  13.04  \n",
       "234197     11256  38.191697 -123.155185  30.53  "
      ]
     },
     "execution_count": 72,
     "metadata": {},
     "output_type": "execute_result"
    }
   ],
   "source": [
    "X.head()"
   ]
  },
  {
   "cell_type": "code",
   "execution_count": 73,
   "metadata": {},
   "outputs": [
    {
     "name": "stdout",
     "output_type": "stream",
     "text": [
      "Grid search...\n",
      "...Done.\n",
      "Best hyperparameters :  {'max_depth': 15, 'min_samples_leaf': 10, 'min_samples_split': 20, 'n_estimators': 80}\n",
      "Best validation F1-score :  0.9922115717818816\n"
     ]
    }
   ],
   "source": [
    "# Définition des transformations\n",
    "\n",
    "categorical_transformer = OneHotEncoder(drop=\"first\")\n",
    "\n",
    "numeric_transformer = StandardScaler()\n",
    "\n",
    "preprocessor = ColumnTransformer(transformers=[\n",
    "    ('categorical', categorical_transformer, categorical_features),\n",
    "    ('numerical', numeric_transformer, numerical_features)\n",
    "])\n",
    "\n",
    "smotenc = SMOTENC(categorical_features=[0, 1])\n",
    "\n",
    "# Train test split\n",
    "\n",
    "X_train, X_test, y_train, y_test = train_test_split(X, y, train_size=0.7, random_state=0, stratify=y)\n",
    "\n",
    "X_train = preprocessor.fit_transform(X_train)\n",
    "X_test = preprocessor.transform(X_test)\n",
    "\n",
    "X_train, y_train = smotenc.fit_resample(X_train, y_train)\n",
    "\n",
    "# Déclaration du modèle\n",
    "\n",
    "classifier_rf = RandomForestClassifier(class_weight='balanced')\n",
    "\n",
    "# Définition des paramètres du gridsearch\n",
    "\n",
    "params = {\n",
    "    \"max_depth\": [5, 10, 15],\n",
    "    \"min_samples_leaf\": [10, 12, 14],\n",
    "    \"min_samples_split\": [16, 20, 24],\n",
    "    \"n_estimators\": [50, 80, 100],\n",
    "}\n",
    "\n",
    "# Gridsearch\n",
    "\n",
    "print(\"Grid search...\")\n",
    "gridsearch_rf = GridSearchCV(\n",
    "    classifier_rf, param_grid=params, cv=3, scoring='f1'\n",
    ")\n",
    "gridsearch_rf.fit(X_train, y_train)\n",
    "print(\"...Done.\")\n",
    "print(\"Best hyperparameters : \", gridsearch_rf.best_params_)\n",
    "print(\"Best validation F1-score : \", gridsearch_rf.best_score_)"
   ]
  },
  {
   "cell_type": "code",
   "execution_count": 74,
   "metadata": {},
   "outputs": [
    {
     "name": "stdout",
     "output_type": "stream",
     "text": [
      "              precision    recall  f1-score   support\n",
      "\n",
      "           0       0.99      1.00      0.99    387502\n",
      "           1       1.00      0.99      0.99    387502\n",
      "\n",
      "    accuracy                           0.99    775004\n",
      "   macro avg       0.99      0.99      0.99    775004\n",
      "weighted avg       0.99      0.99      0.99    775004\n",
      "\n",
      "              precision    recall  f1-score   support\n",
      "\n",
      "           0       1.00      0.99      1.00    166072\n",
      "           1       0.39      0.84      0.53       644\n",
      "\n",
      "    accuracy                           0.99    166716\n",
      "   macro avg       0.69      0.92      0.76    166716\n",
      "weighted avg       1.00      0.99      1.00    166716\n",
      "\n"
     ]
    }
   ],
   "source": [
    "y_train_pred = gridsearch_rf.predict(X_train)\n",
    "y_test_pred = gridsearch_rf.predict(X_test)\n",
    "print(classification_report(y_train, y_train_pred))\n",
    "print(classification_report(y_test, y_test_pred))"
   ]
  },
  {
   "cell_type": "code",
   "execution_count": 75,
   "metadata": {},
   "outputs": [
    {
     "data": {
      "image/png": "[encoded data removed]",
      "text/plain": [
       "<Figure size 640x480 with 2 Axes>"
      ]
     },
     "metadata": {},
     "output_type": "display_data"
    },
    {
     "data": {
      "image/png": "[encoded data removed]",
      "text/plain": [
       "<Figure size 640x480 with 2 Axes>"
      ]
     },
     "metadata": {},
     "output_type": "display_data"
    }
   ],
   "source": [
    "# Visualize confusion matrices\n",
    "_ , ax = plt.subplots() # Get subplot from matplotlib\n",
    "ax.set(title=\"Confusion Matrix on Train set\") # Set a title that we will add into ConfusionMatrixDisplay\n",
    "ConfusionMatrixDisplay.from_estimator(gridsearch_rf, X_train, y_train, ax=ax) # ConfusionMatrixDisplay from sklearn\n",
    "plt.show()\n",
    "\n",
    "_ , ax = plt.subplots() # Get subplot from matplotlib\n",
    "ax.set(title=\"Confusion Matrix on Test set\") # Set a title that we will add into ConfusionMatrixDisplay\n",
    "ConfusionMatrixDisplay.from_estimator(gridsearch_rf, X_test, y_test, ax=ax) # ConfusionMatrixDisplay from sklearn\n",
    "plt.show()"
   ]
  },
  {
   "cell_type": "markdown",
   "metadata": {},
   "source": [
    "#### XGBoost"
   ]
  },
  {
   "cell_type": "code",
   "execution_count": 4,
   "metadata": {},
   "outputs": [],
   "source": [
    "data_sample = data.sample(frac=1., random_state=27)"
   ]
  },
  {
   "cell_type": "code",
   "execution_count": 5,
   "metadata": {},
   "outputs": [],
   "source": [
    "df = data_cleanse(data_sample)\n",
    "\n",
    "categorical_features = ['category', 'gender']\n",
    "numerical_features = ['age', 'hour', 'day', 'month', 'day_of_the_week', 'city_pop', 'merch_lat', 'merch_long', 'amt']\n",
    "features = categorical_features + numerical_features\n",
    "target = 'is_fraud'\n",
    "\n",
    "X = df.loc[:,features]\n",
    "y = df.loc[:,target]"
   ]
  },
  {
   "cell_type": "code",
   "execution_count": 6,
   "metadata": {},
   "outputs": [
    {
     "name": "stdout",
     "output_type": "stream",
     "text": [
      "Grid search...\n",
      "...Done.\n",
      "Best hyperparameters :  {'max_depth': 15, 'min_child_weight': 1, 'n_estimators': 20}\n",
      "Best validation F1-score :  0.9990958747513222\n"
     ]
    }
   ],
   "source": [
    "# Définition des transformations\n",
    "\n",
    "categorical_transformer = OneHotEncoder(drop=\"first\")\n",
    "\n",
    "numeric_transformer = StandardScaler()\n",
    "\n",
    "preprocessor = ColumnTransformer(transformers=[\n",
    "    ('categorical', categorical_transformer, categorical_features),\n",
    "    ('numerical', numeric_transformer, numerical_features)\n",
    "])\n",
    "\n",
    "smotenc = SMOTENC(categorical_features=[0, 1])\n",
    "\n",
    "# Train test split\n",
    "\n",
    "X_train, X_test, y_train, y_test = train_test_split(X, y, train_size=0.7, random_state=0, stratify=y)\n",
    "\n",
    "X_train = preprocessor.fit_transform(X_train)\n",
    "X_test = preprocessor.transform(X_test)\n",
    "\n",
    "X_train, y_train = smotenc.fit_resample(X_train, y_train)\n",
    "\n",
    "# Déclaration du modèle\n",
    "\n",
    "classifier_xgb = XGBClassifier()\n",
    "\n",
    "# Définition des paramètres du gridsearch\n",
    "\n",
    "params = {\n",
    "    \"max_depth\": [2, 6, 10, 15],\n",
    "    \"min_child_weight\": [1, 2, 3, 4, 5, 6],\n",
    "    \"n_estimators\": [4, 8, 12, 16, 20]\n",
    "}\n",
    "\n",
    "# Gridsearch\n",
    "\n",
    "print(\"Grid search...\")\n",
    "gridsearch_xgb = GridSearchCV(\n",
    "    classifier_xgb, param_grid=params, cv=3, scoring='f1'\n",
    ")\n",
    "gridsearch_xgb.fit(X_train, y_train)\n",
    "print(\"...Done.\")\n",
    "print(\"Best hyperparameters : \", gridsearch_xgb.best_params_)\n",
    "print(\"Best validation F1-score : \", gridsearch_xgb.best_score_)"
   ]
  },
  {
   "cell_type": "code",
   "execution_count": 7,
   "metadata": {},
   "outputs": [
    {
     "name": "stdout",
     "output_type": "stream",
     "text": [
      "              precision    recall  f1-score   support\n",
      "\n",
      "           0       1.00      1.00      1.00    387502\n",
      "           1       1.00      1.00      1.00    387502\n",
      "\n",
      "    accuracy                           1.00    775004\n",
      "   macro avg       1.00      1.00      1.00    775004\n",
      "weighted avg       1.00      1.00      1.00    775004\n",
      "\n",
      "              precision    recall  f1-score   support\n",
      "\n",
      "           0       1.00      1.00      1.00    166072\n",
      "           1       0.75      0.84      0.79       644\n",
      "\n",
      "    accuracy                           1.00    166716\n",
      "   macro avg       0.87      0.92      0.89    166716\n",
      "weighted avg       1.00      1.00      1.00    166716\n",
      "\n"
     ]
    }
   ],
   "source": [
    "y_train_pred = gridsearch_xgb.predict(X_train)\n",
    "y_test_pred = gridsearch_xgb.predict(X_test)\n",
    "print(classification_report(y_train, y_train_pred))\n",
    "print(classification_report(y_test, y_test_pred))"
   ]
  },
  {
   "cell_type": "code",
   "execution_count": 8,
   "metadata": {},
   "outputs": [
    {
     "data": {
      "image/png": "[encoded data removed]",
      "text/plain": [
       "<Figure size 640x480 with 2 Axes>"
      ]
     },
     "metadata": {},
     "output_type": "display_data"
    },
    {
     "data": {
      "image/png": "[encoded data removed]",
      "text/plain": [
       "<Figure size 640x480 with 2 Axes>"
      ]
     },
     "metadata": {},
     "output_type": "display_data"
    }
   ],
   "source": [
    "# Visualize confusion matrices\n",
    "_ , ax = plt.subplots() # Get subplot from matplotlib\n",
    "ax.set(title=\"Confusion Matrix on Train set\") # Set a title that we will add into ConfusionMatrixDisplay\n",
    "ConfusionMatrixDisplay.from_estimator(gridsearch_xgb, X_train, y_train, ax=ax) # ConfusionMatrixDisplay from sklearn\n",
    "plt.show()\n",
    "\n",
    "_ , ax = plt.subplots() # Get subplot from matplotlib\n",
    "ax.set(title=\"Confusion Matrix on Test set\") # Set a title that we will add into ConfusionMatrixDisplay\n",
    "ConfusionMatrixDisplay.from_estimator(gridsearch_xgb, X_test, y_test, ax=ax) # ConfusionMatrixDisplay from sklearn\n",
    "plt.show()"
   ]
  },
  {
   "cell_type": "code",
   "execution_count": null,
   "metadata": {},
   "outputs": [],
   "source": []
  }
 ],
 "metadata": {
  "colab": {
   "collapsed_sections": [],
   "name": "Vino Verde - Exercice SOLUTION.ipynb",
   "provenance": []
  },
  "interpreter": {
   "hash": "216d08ced86f1f6e0b5764233bcb18334be12ba95b6ee555f60be9cf0be8c147"
  },
  "kernelspec": {
   "display_name": "Python 3 (ipykernel)",
   "language": "python",
   "name": "python3"
  },
  "language_info": {
   "codemirror_mode": {
    "name": "ipython",
    "version": 3
   },
   "file_extension": ".py",
   "mimetype": "text/x-python",
   "name": "python",
   "nbconvert_exporter": "python",
   "pygments_lexer": "ipython3",
   "version": "3.11.5"
  }
 },
 "nbformat": 4,
 "nbformat_minor": 4
}
