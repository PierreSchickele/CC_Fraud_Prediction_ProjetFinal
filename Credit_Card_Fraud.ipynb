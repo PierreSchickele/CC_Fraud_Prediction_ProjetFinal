{
 "cells": [
  {
   "cell_type": "markdown",
   "metadata": {
    "colab_type": "text",
    "id": "imKew9_jFB95"
   },
   "source": [
    "# Credit Card Fraud"
   ]
  },
  {
   "cell_type": "markdown",
   "metadata": {},
   "source": [
    "Quels facteurs sur les transactions bancaires nous permettent de prédire une fraude à la carte bancaire ?\n",
    "\n",
    "- EDA\n",
    "- Preprocessing (ACP, feature selection)\n",
    "- Modèles :\n",
    "-* ML supervisé de classification binaire avec régression logistique, RandomForest, (régression linéaire pour les montants) ;\n",
    "-* ML non supervisé avec clustering géographique DBScan Elbow+Silhouette\n",
    "- Confrontation des résultats (quel serait le meilleur modèle pour prédire la fraude)\n",
    "- Exemple de prédiction\n",
    "- Mise en place du dashboard\n",
    "- Proposer des questions d'ouverture (pour la présentation)\n",
    "\n",
    "Si on a le temps : prédire le montant de la fraude (régression linéaire)"
   ]
  },
  {
   "cell_type": "markdown",
   "metadata": {
    "colab_type": "text",
    "id": "Cp0MsLVjFHaM"
   },
   "source": [
    "1. Import usual libraries"
   ]
  },
  {
   "cell_type": "code",
   "execution_count": 1,
   "metadata": {
    "colab": {},
    "colab_type": "code",
    "id": "75lz0VLnFdWB"
   },
   "outputs": [],
   "source": [
    "import pandas as pd\n",
    "import matplotlib.pyplot as plt\n",
    "from sklearn.model_selection import train_test_split\n",
    "from sklearn.pipeline import Pipeline\n",
    "from sklearn.impute import SimpleImputer\n",
    "from sklearn.preprocessing import  OneHotEncoder, StandardScaler, LabelEncoder\n",
    "from sklearn.compose import ColumnTransformer\n",
    "from sklearn.linear_model import LogisticRegression\n",
    "from sklearn.metrics import accuracy_score, f1_score, RocCurveDisplay, ConfusionMatrixDisplay\n",
    "from sklearn.model_selection import cross_val_score\n",
    "\n",
    "import plotly.express as px\n",
    "import plotly.graph_objects as go\n",
    "import plotly.io as pio\n",
    "# setting Jedha color palette as default\n",
    "pio.templates[\"jedha\"] = go.layout.Template(\n",
    "    layout_colorway=[\"#4B9AC7\", \"#4BE8E0\", \"#9DD4F3\", \"#97FBF6\", \"#2A7FAF\", \"#23B1AB\", \"#0E3449\", \"#015955\"]\n",
    ")\n",
    "pio.templates.default = \"jedha\"\n",
    "pio.renderers.default = \"svg\" # to be replaced by \"iframe\" if working on JULIE"
   ]
  },
  {
   "cell_type": "code",
   "execution_count": 2,
   "metadata": {
    "colab": {
     "base_uri": "https://localhost:8080/",
     "height": 195
    },
    "colab_type": "code",
    "executionInfo": {
     "elapsed": 1421,
     "status": "ok",
     "timestamp": 1588173928389,
     "user": {
      "displayName": "Philéas Samir",
      "photoUrl": "https://lh5.googleusercontent.com/-FbBGbDYQ448/AAAAAAAAAAI/AAAAAAAAAUo/cYIvd5guwHI/s64/photo.jpg",
      "userId": "10441094633115017513"
     },
     "user_tz": -120
    },
    "id": "-9-p2URQEbo3",
    "outputId": "9b8ef731-cd56-49a4-f5e9-3a3950ba930f"
   },
   "outputs": [
    {
     "data": {
      "text/html": [
       "<div>\n",
       "<style scoped>\n",
       "    .dataframe tbody tr th:only-of-type {\n",
       "        vertical-align: middle;\n",
       "    }\n",
       "\n",
       "    .dataframe tbody tr th {\n",
       "        vertical-align: top;\n",
       "    }\n",
       "\n",
       "    .dataframe thead th {\n",
       "        text-align: right;\n",
       "    }\n",
       "</style>\n",
       "<table border=\"1\" class=\"dataframe\">\n",
       "  <thead>\n",
       "    <tr style=\"text-align: right;\">\n",
       "      <th></th>\n",
       "      <th>Unnamed: 0</th>\n",
       "      <th>trans_date_trans_time</th>\n",
       "      <th>cc_num</th>\n",
       "      <th>merchant</th>\n",
       "      <th>category</th>\n",
       "      <th>amt</th>\n",
       "      <th>first</th>\n",
       "      <th>last</th>\n",
       "      <th>gender</th>\n",
       "      <th>street</th>\n",
       "      <th>...</th>\n",
       "      <th>lat</th>\n",
       "      <th>long</th>\n",
       "      <th>city_pop</th>\n",
       "      <th>job</th>\n",
       "      <th>dob</th>\n",
       "      <th>trans_num</th>\n",
       "      <th>unix_time</th>\n",
       "      <th>merch_lat</th>\n",
       "      <th>merch_long</th>\n",
       "      <th>is_fraud</th>\n",
       "    </tr>\n",
       "  </thead>\n",
       "  <tbody>\n",
       "    <tr>\n",
       "      <th>0</th>\n",
       "      <td>0</td>\n",
       "      <td>21/06/2020 12:14</td>\n",
       "      <td>2.291160e+15</td>\n",
       "      <td>fraud_Kirlin and Sons</td>\n",
       "      <td>personal_care</td>\n",
       "      <td>2.86</td>\n",
       "      <td>Jeff</td>\n",
       "      <td>Elliott</td>\n",
       "      <td>M</td>\n",
       "      <td>351 Darlene Green</td>\n",
       "      <td>...</td>\n",
       "      <td>33.9659</td>\n",
       "      <td>-80.9355</td>\n",
       "      <td>333497</td>\n",
       "      <td>Mechanical engineer</td>\n",
       "      <td>19/03/1968</td>\n",
       "      <td>2da90c7d74bd46a0caf3777415b3ebd3</td>\n",
       "      <td>1371816865</td>\n",
       "      <td>33.986391</td>\n",
       "      <td>-81.200714</td>\n",
       "      <td>0</td>\n",
       "    </tr>\n",
       "    <tr>\n",
       "      <th>1</th>\n",
       "      <td>1</td>\n",
       "      <td>21/06/2020 12:14</td>\n",
       "      <td>3.573030e+15</td>\n",
       "      <td>fraud_Sporer-Keebler</td>\n",
       "      <td>personal_care</td>\n",
       "      <td>29.84</td>\n",
       "      <td>Joanne</td>\n",
       "      <td>Williams</td>\n",
       "      <td>F</td>\n",
       "      <td>3638 Marsh Union</td>\n",
       "      <td>...</td>\n",
       "      <td>40.3207</td>\n",
       "      <td>-110.4360</td>\n",
       "      <td>302</td>\n",
       "      <td>Sales professional, IT</td>\n",
       "      <td>17/01/1990</td>\n",
       "      <td>324cc204407e99f51b0d6ca0055005e7</td>\n",
       "      <td>1371816873</td>\n",
       "      <td>39.450498</td>\n",
       "      <td>-109.960431</td>\n",
       "      <td>0</td>\n",
       "    </tr>\n",
       "    <tr>\n",
       "      <th>2</th>\n",
       "      <td>2</td>\n",
       "      <td>21/06/2020 12:14</td>\n",
       "      <td>3.598220e+15</td>\n",
       "      <td>fraud_Swaniawski, Nitzsche and Welch</td>\n",
       "      <td>health_fitness</td>\n",
       "      <td>41.28</td>\n",
       "      <td>Ashley</td>\n",
       "      <td>Lopez</td>\n",
       "      <td>F</td>\n",
       "      <td>9333 Valentine Point</td>\n",
       "      <td>...</td>\n",
       "      <td>40.6729</td>\n",
       "      <td>-73.5365</td>\n",
       "      <td>34496</td>\n",
       "      <td>Librarian, public</td>\n",
       "      <td>21/10/1970</td>\n",
       "      <td>c81755dbbbea9d5c77f094348a7579be</td>\n",
       "      <td>1371816893</td>\n",
       "      <td>40.495810</td>\n",
       "      <td>-74.196111</td>\n",
       "      <td>0</td>\n",
       "    </tr>\n",
       "    <tr>\n",
       "      <th>3</th>\n",
       "      <td>3</td>\n",
       "      <td>21/06/2020 12:15</td>\n",
       "      <td>3.591920e+15</td>\n",
       "      <td>fraud_Haley Group</td>\n",
       "      <td>misc_pos</td>\n",
       "      <td>60.05</td>\n",
       "      <td>Brian</td>\n",
       "      <td>Williams</td>\n",
       "      <td>M</td>\n",
       "      <td>32941 Krystal Mill Apt. 552</td>\n",
       "      <td>...</td>\n",
       "      <td>28.5697</td>\n",
       "      <td>-80.8191</td>\n",
       "      <td>54767</td>\n",
       "      <td>Set designer</td>\n",
       "      <td>25/07/1987</td>\n",
       "      <td>2159175b9efe66dc301f149d3d5abf8c</td>\n",
       "      <td>1371816915</td>\n",
       "      <td>28.812398</td>\n",
       "      <td>-80.883061</td>\n",
       "      <td>0</td>\n",
       "    </tr>\n",
       "    <tr>\n",
       "      <th>4</th>\n",
       "      <td>4</td>\n",
       "      <td>21/06/2020 12:15</td>\n",
       "      <td>3.526830e+15</td>\n",
       "      <td>fraud_Johnston-Casper</td>\n",
       "      <td>travel</td>\n",
       "      <td>3.19</td>\n",
       "      <td>Nathan</td>\n",
       "      <td>Massey</td>\n",
       "      <td>M</td>\n",
       "      <td>5783 Evan Roads Apt. 465</td>\n",
       "      <td>...</td>\n",
       "      <td>44.2529</td>\n",
       "      <td>-85.0170</td>\n",
       "      <td>1126</td>\n",
       "      <td>Furniture designer</td>\n",
       "      <td>06/07/1955</td>\n",
       "      <td>57ff021bd3f328f8738bb535c302a31b</td>\n",
       "      <td>1371816917</td>\n",
       "      <td>44.959148</td>\n",
       "      <td>-85.884734</td>\n",
       "      <td>0</td>\n",
       "    </tr>\n",
       "  </tbody>\n",
       "</table>\n",
       "<p>5 rows × 23 columns</p>\n",
       "</div>"
      ],
      "text/plain": [
       "   Unnamed: 0 trans_date_trans_time        cc_num  \\\n",
       "0           0      21/06/2020 12:14  2.291160e+15   \n",
       "1           1      21/06/2020 12:14  3.573030e+15   \n",
       "2           2      21/06/2020 12:14  3.598220e+15   \n",
       "3           3      21/06/2020 12:15  3.591920e+15   \n",
       "4           4      21/06/2020 12:15  3.526830e+15   \n",
       "\n",
       "                               merchant        category    amt   first  \\\n",
       "0                 fraud_Kirlin and Sons   personal_care   2.86    Jeff   \n",
       "1                  fraud_Sporer-Keebler   personal_care  29.84  Joanne   \n",
       "2  fraud_Swaniawski, Nitzsche and Welch  health_fitness  41.28  Ashley   \n",
       "3                     fraud_Haley Group        misc_pos  60.05   Brian   \n",
       "4                 fraud_Johnston-Casper          travel   3.19  Nathan   \n",
       "\n",
       "       last gender                       street  ...      lat      long  \\\n",
       "0   Elliott      M            351 Darlene Green  ...  33.9659  -80.9355   \n",
       "1  Williams      F             3638 Marsh Union  ...  40.3207 -110.4360   \n",
       "2     Lopez      F         9333 Valentine Point  ...  40.6729  -73.5365   \n",
       "3  Williams      M  32941 Krystal Mill Apt. 552  ...  28.5697  -80.8191   \n",
       "4    Massey      M     5783 Evan Roads Apt. 465  ...  44.2529  -85.0170   \n",
       "\n",
       "   city_pop                     job         dob  \\\n",
       "0    333497     Mechanical engineer  19/03/1968   \n",
       "1       302  Sales professional, IT  17/01/1990   \n",
       "2     34496       Librarian, public  21/10/1970   \n",
       "3     54767            Set designer  25/07/1987   \n",
       "4      1126      Furniture designer  06/07/1955   \n",
       "\n",
       "                          trans_num   unix_time  merch_lat  merch_long  \\\n",
       "0  2da90c7d74bd46a0caf3777415b3ebd3  1371816865  33.986391  -81.200714   \n",
       "1  324cc204407e99f51b0d6ca0055005e7  1371816873  39.450498 -109.960431   \n",
       "2  c81755dbbbea9d5c77f094348a7579be  1371816893  40.495810  -74.196111   \n",
       "3  2159175b9efe66dc301f149d3d5abf8c  1371816915  28.812398  -80.883061   \n",
       "4  57ff021bd3f328f8738bb535c302a31b  1371816917  44.959148  -85.884734   \n",
       "\n",
       "   is_fraud  \n",
       "0         0  \n",
       "1         0  \n",
       "2         0  \n",
       "3         0  \n",
       "4         0  \n",
       "\n",
       "[5 rows x 23 columns]"
      ]
     },
     "execution_count": 2,
     "metadata": {},
     "output_type": "execute_result"
    }
   ],
   "source": [
    "data = pd.read_csv('src/fraud test.csv')\n",
    "data.head()"
   ]
  },
  {
   "cell_type": "code",
   "execution_count": 3,
   "metadata": {
    "colab": {
     "base_uri": "https://localhost:8080/",
     "height": 336
    },
    "colab_type": "code",
    "executionInfo": {
     "elapsed": 1384,
     "status": "ok",
     "timestamp": 1588173928392,
     "user": {
      "displayName": "Philéas Samir",
      "photoUrl": "https://lh5.googleusercontent.com/-FbBGbDYQ448/AAAAAAAAAAI/AAAAAAAAAUo/cYIvd5guwHI/s64/photo.jpg",
      "userId": "10441094633115017513"
     },
     "user_tz": -120
    },
    "id": "RWziufM-FamK",
    "outputId": "bd096f6a-950f-4583-deb6-ccf03a7324c0",
    "tags": []
   },
   "outputs": [
    {
     "name": "stdout",
     "output_type": "stream",
     "text": [
      "<class 'pandas.core.frame.DataFrame'>\n",
      "RangeIndex: 555719 entries, 0 to 555718\n",
      "Data columns (total 23 columns):\n",
      " #   Column                 Non-Null Count   Dtype  \n",
      "---  ------                 --------------   -----  \n",
      " 0   Unnamed: 0             555719 non-null  int64  \n",
      " 1   trans_date_trans_time  555719 non-null  object \n",
      " 2   cc_num                 555719 non-null  float64\n",
      " 3   merchant               555719 non-null  object \n",
      " 4   category               555719 non-null  object \n",
      " 5   amt                    555719 non-null  float64\n",
      " 6   first                  555719 non-null  object \n",
      " 7   last                   555719 non-null  object \n",
      " 8   gender                 555719 non-null  object \n",
      " 9   street                 555719 non-null  object \n",
      " 10  city                   555719 non-null  object \n",
      " 11  state                  555719 non-null  object \n",
      " 12  zip                    555719 non-null  int64  \n",
      " 13  lat                    555719 non-null  float64\n",
      " 14  long                   555719 non-null  float64\n",
      " 15  city_pop               555719 non-null  int64  \n",
      " 16  job                    555719 non-null  object \n",
      " 17  dob                    555719 non-null  object \n",
      " 18  trans_num              555719 non-null  object \n",
      " 19  unix_time              555719 non-null  int64  \n",
      " 20  merch_lat              555719 non-null  float64\n",
      " 21  merch_long             555719 non-null  float64\n",
      " 22  is_fraud               555719 non-null  int64  \n",
      "dtypes: float64(6), int64(5), object(12)\n",
      "memory usage: 97.5+ MB\n"
     ]
    }
   ],
   "source": [
    "data.info()"
   ]
  },
  {
   "cell_type": "code",
   "execution_count": 4,
   "metadata": {},
   "outputs": [
    {
     "data": {
      "text/plain": [
       "is_fraud\n",
       "0    553574\n",
       "1      2145\n",
       "Name: count, dtype: int64"
      ]
     },
     "execution_count": 4,
     "metadata": {},
     "output_type": "execute_result"
    }
   ],
   "source": [
    "data['is_fraud'].value_counts()"
   ]
  },
  {
   "cell_type": "code",
   "execution_count": 24,
   "metadata": {},
   "outputs": [
    {
     "data": {
      "text/plain": [
       "(555719, 23)"
      ]
     },
     "execution_count": 24,
     "metadata": {},
     "output_type": "execute_result"
    }
   ],
   "source": [
    "data.shape"
   ]
  },
  {
   "cell_type": "code",
   "execution_count": 29,
   "metadata": {},
   "outputs": [
    {
     "data": {
      "text/html": [
       "<div>\n",
       "<style scoped>\n",
       "    .dataframe tbody tr th:only-of-type {\n",
       "        vertical-align: middle;\n",
       "    }\n",
       "\n",
       "    .dataframe tbody tr th {\n",
       "        vertical-align: top;\n",
       "    }\n",
       "\n",
       "    .dataframe thead th {\n",
       "        text-align: right;\n",
       "    }\n",
       "</style>\n",
       "<table border=\"1\" class=\"dataframe\">\n",
       "  <thead>\n",
       "    <tr style=\"text-align: right;\">\n",
       "      <th></th>\n",
       "      <th>Unnamed: 0</th>\n",
       "      <th>trans_date_trans_time</th>\n",
       "      <th>cc_num</th>\n",
       "      <th>merchant</th>\n",
       "      <th>category</th>\n",
       "      <th>amt</th>\n",
       "      <th>first</th>\n",
       "      <th>last</th>\n",
       "      <th>gender</th>\n",
       "      <th>street</th>\n",
       "      <th>...</th>\n",
       "      <th>lat</th>\n",
       "      <th>long</th>\n",
       "      <th>city_pop</th>\n",
       "      <th>job</th>\n",
       "      <th>dob</th>\n",
       "      <th>trans_num</th>\n",
       "      <th>unix_time</th>\n",
       "      <th>merch_lat</th>\n",
       "      <th>merch_long</th>\n",
       "      <th>is_fraud</th>\n",
       "    </tr>\n",
       "  </thead>\n",
       "  <tbody>\n",
       "    <tr>\n",
       "      <th>31777</th>\n",
       "      <td>31777</td>\n",
       "      <td>01/07/2020 22:28</td>\n",
       "      <td>3.597930e+15</td>\n",
       "      <td>fraud_Gutmann-Upton</td>\n",
       "      <td>misc_pos</td>\n",
       "      <td>9.84</td>\n",
       "      <td>Derrick</td>\n",
       "      <td>Flores</td>\n",
       "      <td>M</td>\n",
       "      <td>83690 Nicholas Ports Apt. 846</td>\n",
       "      <td>...</td>\n",
       "      <td>35.2229</td>\n",
       "      <td>-89.5518</td>\n",
       "      <td>9496</td>\n",
       "      <td>Furniture conservator/restorer</td>\n",
       "      <td>23/03/1993</td>\n",
       "      <td>1c6095eddc249e1f04c61620fd2a5735</td>\n",
       "      <td>1372717732</td>\n",
       "      <td>35.635036</td>\n",
       "      <td>-89.182217</td>\n",
       "      <td>0</td>\n",
       "    </tr>\n",
       "    <tr>\n",
       "      <th>78315</th>\n",
       "      <td>78315</td>\n",
       "      <td>18/07/2020 22:03</td>\n",
       "      <td>2.454080e+15</td>\n",
       "      <td>fraud_Kuphal-Predovic</td>\n",
       "      <td>misc_net</td>\n",
       "      <td>828.22</td>\n",
       "      <td>Robert</td>\n",
       "      <td>Andrade</td>\n",
       "      <td>M</td>\n",
       "      <td>27720 Martin Hills</td>\n",
       "      <td>...</td>\n",
       "      <td>47.0874</td>\n",
       "      <td>-93.9196</td>\n",
       "      <td>2097</td>\n",
       "      <td>Insurance risk surveyor</td>\n",
       "      <td>27/10/1987</td>\n",
       "      <td>9917b85781e97bdebb160301ab984360</td>\n",
       "      <td>1374185000</td>\n",
       "      <td>47.829339</td>\n",
       "      <td>-93.985386</td>\n",
       "      <td>1</td>\n",
       "    </tr>\n",
       "    <tr>\n",
       "      <th>224279</th>\n",
       "      <td>224279</td>\n",
       "      <td>08/09/2020 22:15</td>\n",
       "      <td>5.702730e+11</td>\n",
       "      <td>fraud_Miller-Hauck</td>\n",
       "      <td>grocery_pos</td>\n",
       "      <td>321.51</td>\n",
       "      <td>Peter</td>\n",
       "      <td>Edwards</td>\n",
       "      <td>M</td>\n",
       "      <td>96122 Steven Flat</td>\n",
       "      <td>...</td>\n",
       "      <td>32.6064</td>\n",
       "      <td>-83.2095</td>\n",
       "      <td>112</td>\n",
       "      <td>Lecturer, higher education</td>\n",
       "      <td>03/02/1965</td>\n",
       "      <td>f9d56e3a0ceb2f7a8fc856f740d2a1fd</td>\n",
       "      <td>1378678518</td>\n",
       "      <td>33.243766</td>\n",
       "      <td>-83.178324</td>\n",
       "      <td>1</td>\n",
       "    </tr>\n",
       "    <tr>\n",
       "      <th>354011</th>\n",
       "      <td>354011</td>\n",
       "      <td>04/11/2020 23:38</td>\n",
       "      <td>3.719850e+14</td>\n",
       "      <td>fraud_Spencer-Runolfsson</td>\n",
       "      <td>misc_pos</td>\n",
       "      <td>50.37</td>\n",
       "      <td>Benjamin</td>\n",
       "      <td>Martin</td>\n",
       "      <td>M</td>\n",
       "      <td>0495 Baker Manors</td>\n",
       "      <td>...</td>\n",
       "      <td>42.9576</td>\n",
       "      <td>-75.4838</td>\n",
       "      <td>1970</td>\n",
       "      <td>Programmer, multimedia</td>\n",
       "      <td>09/06/1949</td>\n",
       "      <td>b646873eaa7d6a33c74910b668f738ce</td>\n",
       "      <td>1383608331</td>\n",
       "      <td>43.228994</td>\n",
       "      <td>-74.899820</td>\n",
       "      <td>1</td>\n",
       "    </tr>\n",
       "    <tr>\n",
       "      <th>373526</th>\n",
       "      <td>373526</td>\n",
       "      <td>13/11/2020 22:16</td>\n",
       "      <td>3.048760e+13</td>\n",
       "      <td>fraud_Streich, Dietrich and Barton</td>\n",
       "      <td>shopping_net</td>\n",
       "      <td>1070.36</td>\n",
       "      <td>Stephanie</td>\n",
       "      <td>Crane</td>\n",
       "      <td>F</td>\n",
       "      <td>144 Martinez Curve</td>\n",
       "      <td>...</td>\n",
       "      <td>38.0970</td>\n",
       "      <td>-86.1723</td>\n",
       "      <td>350</td>\n",
       "      <td>Counsellor</td>\n",
       "      <td>05/01/1955</td>\n",
       "      <td>bade4c2c1aefb1fb7222474a89359a6b</td>\n",
       "      <td>1384380965</td>\n",
       "      <td>38.150576</td>\n",
       "      <td>-85.721508</td>\n",
       "      <td>1</td>\n",
       "    </tr>\n",
       "  </tbody>\n",
       "</table>\n",
       "<p>5 rows × 23 columns</p>\n",
       "</div>"
      ],
      "text/plain": [
       "        Unnamed: 0 trans_date_trans_time        cc_num  \\\n",
       "31777        31777      01/07/2020 22:28  3.597930e+15   \n",
       "78315        78315      18/07/2020 22:03  2.454080e+15   \n",
       "224279      224279      08/09/2020 22:15  5.702730e+11   \n",
       "354011      354011      04/11/2020 23:38  3.719850e+14   \n",
       "373526      373526      13/11/2020 22:16  3.048760e+13   \n",
       "\n",
       "                                  merchant      category      amt      first  \\\n",
       "31777                  fraud_Gutmann-Upton      misc_pos     9.84    Derrick   \n",
       "78315                fraud_Kuphal-Predovic      misc_net   828.22     Robert   \n",
       "224279                  fraud_Miller-Hauck   grocery_pos   321.51      Peter   \n",
       "354011            fraud_Spencer-Runolfsson      misc_pos    50.37   Benjamin   \n",
       "373526  fraud_Streich, Dietrich and Barton  shopping_net  1070.36  Stephanie   \n",
       "\n",
       "           last gender                         street  ...      lat     long  \\\n",
       "31777    Flores      M  83690 Nicholas Ports Apt. 846  ...  35.2229 -89.5518   \n",
       "78315   Andrade      M             27720 Martin Hills  ...  47.0874 -93.9196   \n",
       "224279  Edwards      M              96122 Steven Flat  ...  32.6064 -83.2095   \n",
       "354011   Martin      M              0495 Baker Manors  ...  42.9576 -75.4838   \n",
       "373526    Crane      F             144 Martinez Curve  ...  38.0970 -86.1723   \n",
       "\n",
       "        city_pop                             job         dob  \\\n",
       "31777       9496  Furniture conservator/restorer  23/03/1993   \n",
       "78315       2097         Insurance risk surveyor  27/10/1987   \n",
       "224279       112      Lecturer, higher education  03/02/1965   \n",
       "354011      1970          Programmer, multimedia  09/06/1949   \n",
       "373526       350                      Counsellor  05/01/1955   \n",
       "\n",
       "                               trans_num   unix_time  merch_lat merch_long  \\\n",
       "31777   1c6095eddc249e1f04c61620fd2a5735  1372717732  35.635036 -89.182217   \n",
       "78315   9917b85781e97bdebb160301ab984360  1374185000  47.829339 -93.985386   \n",
       "224279  f9d56e3a0ceb2f7a8fc856f740d2a1fd  1378678518  33.243766 -83.178324   \n",
       "354011  b646873eaa7d6a33c74910b668f738ce  1383608331  43.228994 -74.899820   \n",
       "373526  bade4c2c1aefb1fb7222474a89359a6b  1384380965  38.150576 -85.721508   \n",
       "\n",
       "        is_fraud  \n",
       "31777          0  \n",
       "78315          1  \n",
       "224279         1  \n",
       "354011         1  \n",
       "373526         1  \n",
       "\n",
       "[5 rows x 23 columns]"
      ]
     },
     "execution_count": 29,
     "metadata": {},
     "output_type": "execute_result"
    }
   ],
   "source": [
    "data_non_frauds = data.loc[(data['is_fraud'] == 0),:].sample(2145, random_state=0)\n",
    "data_frauds = data[data['is_fraud'] == 1]\n",
    "\n",
    "data_sample = pd.concat([data_frauds, data_non_frauds], join='outer')\n",
    "data_sample = data_sample.sample(frac=1)\n",
    "data_sample.head()"
   ]
  },
  {
   "cell_type": "code",
   "execution_count": 31,
   "metadata": {},
   "outputs": [
    {
     "data": {
      "text/plain": [
       "(4290, 23)"
      ]
     },
     "execution_count": 31,
     "metadata": {},
     "output_type": "execute_result"
    }
   ],
   "source": [
    "data_sample.shape"
   ]
  },
  {
   "cell_type": "code",
   "execution_count": 15,
   "metadata": {},
   "outputs": [
    {
     "data": {
      "text/plain": [
       "is_fraud\n",
       "0    553574\n",
       "1      2145\n",
       "Name: count, dtype: int64"
      ]
     },
     "execution_count": 15,
     "metadata": {},
     "output_type": "execute_result"
    }
   ],
   "source": [
    "data_sample['is_fraud'].value_counts()"
   ]
  },
  {
   "cell_type": "code",
   "execution_count": 33,
   "metadata": {},
   "outputs": [
    {
     "data": {
      "text/plain": [
       "(4290, 15)"
      ]
     },
     "execution_count": 33,
     "metadata": {},
     "output_type": "execute_result"
    }
   ],
   "source": [
    "to_drop = ['cc_num', 'first', 'last', 'street', 'city', 'state', 'zip', 'trans_num']\n",
    "data_sample = data_sample.drop(columns=to_drop)\n",
    "data_sample.shape"
   ]
  },
  {
   "cell_type": "code",
   "execution_count": null,
   "metadata": {},
   "outputs": [],
   "source": []
  },
  {
   "cell_type": "code",
   "execution_count": 17,
   "metadata": {},
   "outputs": [
    {
     "name": "stdout",
     "output_type": "stream",
     "text": [
      "Separating labels from features...\n",
      "...Done.\n",
      "\n",
      "Y : \n",
      "0    5\n",
      "1    5\n",
      "2    5\n",
      "3    6\n",
      "4    5\n",
      "Name: quality, dtype: int64\n",
      "\n",
      "X :\n",
      "   alcohol\n",
      "0      9.4\n",
      "1      9.8\n",
      "2      9.8\n",
      "3      9.8\n",
      "4      9.4\n"
     ]
    }
   ],
   "source": [
    "# Separate target variable Y from features X\n",
    "print(\"Separating labels from features...\")\n",
    "features_list = [\"alcohol\"]\n",
    "target_variable = \"quality\"\n",
    "\n",
    "X = dataset.loc[:,features_list]\n",
    "Y = dataset.loc[:,target_variable]\n",
    "\n",
    "print(\"...Done.\")\n",
    "print()\n",
    "\n",
    "print('Y : ')\n",
    "print(Y.head())\n",
    "print()\n",
    "print('X :')\n",
    "print(X.head())"
   ]
  },
  {
   "cell_type": "code",
   "execution_count": 18,
   "metadata": {},
   "outputs": [
    {
     "name": "stdout",
     "output_type": "stream",
     "text": [
      "Dividing into train and test sets...\n",
      "...Done.\n",
      "\n"
     ]
    }
   ],
   "source": [
    "# Divide dataset Train set & Test set \n",
    "print(\"Dividing into train and test sets...\")\n",
    "X_train, X_test, Y_train, Y_test = train_test_split(X, Y, test_size=0.2, random_state=0)\n",
    "print(\"...Done.\")\n",
    "print()"
   ]
  },
  {
   "cell_type": "code",
   "execution_count": 19,
   "metadata": {},
   "outputs": [
    {
     "name": "stdout",
     "output_type": "stream",
     "text": [
      "Preprocessing X_train...\n",
      "      alcohol\n",
      "642       9.4\n",
      "679       9.6\n",
      "473      10.6\n",
      "390      12.9\n",
      "1096     10.8\n",
      "\n",
      "...Done!\n",
      "[[-0.95579434]\n",
      " [-0.76727388]\n",
      " [ 0.17532846]\n",
      " [ 2.34331382]\n",
      " [ 0.36384892]]\n",
      "\n",
      "Preprocessing X_test...\n",
      "      alcohol\n",
      "1109     10.8\n",
      "1032      9.6\n",
      "1002     11.7\n",
      "487      10.0\n",
      "979      10.4\n",
      "\n",
      "...Done!\n",
      "[[ 0.36384892]\n",
      " [-0.76727388]\n",
      " [ 1.21219102]\n",
      " [-0.39023294]\n",
      " [-0.01319201]]\n",
      "\n"
     ]
    }
   ],
   "source": [
    "print(\"Preprocessing X_train...\")\n",
    "print(X_train.head())\n",
    "print()\n",
    "preprocessor = StandardScaler()\n",
    "X_train = preprocessor.fit_transform(X_train)\n",
    "print(\"...Done!\")\n",
    "print(X_train[0:5,:]) # X_train is now a numpy array\n",
    "print() \n",
    "\n",
    "# Test pipeline\n",
    "print(\"Preprocessing X_test...\")\n",
    "print(X_test.head())\n",
    "print()\n",
    "X_test = preprocessor.transform(X_test)\n",
    "print(\"...Done!\")\n",
    "print(X_test[0:5,:]) # X_test is now a numpy array\n",
    "print() "
   ]
  },
  {
   "cell_type": "code",
   "execution_count": 20,
   "metadata": {},
   "outputs": [
    {
     "name": "stdout",
     "output_type": "stream",
     "text": [
      "Train model...\n",
      "...Done.\n"
     ]
    }
   ],
   "source": [
    "# Train model\n",
    "print(\"Train model...\")\n",
    "baseline = LogisticRegression()\n",
    "baseline.fit(X_train, Y_train)\n",
    "print(\"...Done.\")"
   ]
  },
  {
   "cell_type": "code",
   "execution_count": 21,
   "metadata": {},
   "outputs": [
    {
     "name": "stdout",
     "output_type": "stream",
     "text": [
      "accuracy score on training set :  0.5465207193119624\n",
      "accuracy score on test set :  0.578125\n"
     ]
    }
   ],
   "source": [
    "# Print accuracy\n",
    "print(\"accuracy score on training set : \", baseline.score(X_train, Y_train))\n",
    "print(\"accuracy score on test set : \", baseline.score(X_test, Y_test))"
   ]
  },
  {
   "cell_type": "markdown",
   "metadata": {},
   "source": [
    "7. Use cross-validation with cv=10 to get a better feel of the model's average performance on this dataset."
   ]
  },
  {
   "cell_type": "code",
   "execution_count": 22,
   "metadata": {},
   "outputs": [
    {
     "name": "stdout",
     "output_type": "stream",
     "text": [
      "10-fold cross-validation...\n",
      "The cross-validated accuracy is :  0.5410617618110236\n",
      "The standard deviation is :  0.027051325500817094\n"
     ]
    },
    {
     "name": "stderr",
     "output_type": "stream",
     "text": [
      "c:\\Users\\pierr\\anaconda3\\Lib\\site-packages\\sklearn\\model_selection\\_split.py:725: UserWarning:\n",
      "\n",
      "The least populated class in y has only 8 members, which is less than n_splits=10.\n",
      "\n"
     ]
    }
   ],
   "source": [
    "# Perform 10-fold cross-validation \n",
    "print(\"10-fold cross-validation...\")\n",
    "scores = cross_val_score(baseline, X_train, Y_train, cv=10)\n",
    "print('The cross-validated accuracy is : ', scores.mean())\n",
    "print('The standard deviation is : ', scores.std())"
   ]
  },
  {
   "cell_type": "markdown",
   "metadata": {},
   "source": [
    "8. What would be the test accuracy for a \"dummy\" model that would always predict the most frequent class? Is the baseline model interesting?"
   ]
  },
  {
   "cell_type": "markdown",
   "metadata": {},
   "source": [
    "From question 5., we know that the most frequent class is `quality = 5`. Let's create a list Y_pred_dummy in which every element is equal to 5, and compute the accuracy:"
   ]
  },
  {
   "cell_type": "code",
   "execution_count": 23,
   "metadata": {},
   "outputs": [
    {
     "name": "stdout",
     "output_type": "stream",
     "text": [
      "dummy accuracy on test set :  0.421875\n"
     ]
    }
   ],
   "source": [
    "Y_test_pred_dummy = [5]*len(Y_test)\n",
    "print(\"dummy accuracy on test set : \", accuracy_score(Y_test, Y_test_pred_dummy))"
   ]
  },
  {
   "cell_type": "markdown",
   "metadata": {},
   "source": [
    "The baseline model is already much more efficient than a dummy model!"
   ]
  },
  {
   "cell_type": "markdown",
   "metadata": {},
   "source": [
    "9. Train a multivariate model by including all the features and compute its accuracy on train/test.\n",
    "\n",
    "Hint1: Do the explanatory variables need imputation, encoding or normalization? If so proceed to the necessary transformations. Why is normalization important when using logistic regression?\n",
    "\n",
    "Hint2: If you get a \"convergence warning\" while training the model, you might want to increase the value of the argument \"max_iter\" in the LogisticRegression 🤓"
   ]
  },
  {
   "cell_type": "code",
   "execution_count": 24,
   "metadata": {},
   "outputs": [
    {
     "name": "stdout",
     "output_type": "stream",
     "text": [
      "Number of rows : 1599\n",
      "\n",
      "Display of dataset: \n"
     ]
    },
    {
     "data": {
      "text/html": [
       "<div>\n",
       "<style scoped>\n",
       "    .dataframe tbody tr th:only-of-type {\n",
       "        vertical-align: middle;\n",
       "    }\n",
       "\n",
       "    .dataframe tbody tr th {\n",
       "        vertical-align: top;\n",
       "    }\n",
       "\n",
       "    .dataframe thead th {\n",
       "        text-align: right;\n",
       "    }\n",
       "</style>\n",
       "<table border=\"1\" class=\"dataframe\">\n",
       "  <thead>\n",
       "    <tr style=\"text-align: right;\">\n",
       "      <th></th>\n",
       "      <th>fixed_acidity</th>\n",
       "      <th>volatile_acidity</th>\n",
       "      <th>citric_acid</th>\n",
       "      <th>residual_sugar</th>\n",
       "      <th>chlorides</th>\n",
       "      <th>free_sulfur_dioxide</th>\n",
       "      <th>total_sulfur_dioxide</th>\n",
       "      <th>density</th>\n",
       "      <th>pH</th>\n",
       "      <th>sulphates</th>\n",
       "      <th>alcohol</th>\n",
       "      <th>quality</th>\n",
       "    </tr>\n",
       "  </thead>\n",
       "  <tbody>\n",
       "    <tr>\n",
       "      <th>0</th>\n",
       "      <td>7.4</td>\n",
       "      <td>0.70</td>\n",
       "      <td>0.00</td>\n",
       "      <td>1.9</td>\n",
       "      <td>0.076</td>\n",
       "      <td>11.0</td>\n",
       "      <td>34.0</td>\n",
       "      <td>0.9978</td>\n",
       "      <td>3.51</td>\n",
       "      <td>0.56</td>\n",
       "      <td>9.4</td>\n",
       "      <td>5</td>\n",
       "    </tr>\n",
       "    <tr>\n",
       "      <th>1</th>\n",
       "      <td>7.8</td>\n",
       "      <td>0.88</td>\n",
       "      <td>0.00</td>\n",
       "      <td>2.6</td>\n",
       "      <td>0.098</td>\n",
       "      <td>25.0</td>\n",
       "      <td>67.0</td>\n",
       "      <td>0.9968</td>\n",
       "      <td>3.20</td>\n",
       "      <td>0.68</td>\n",
       "      <td>9.8</td>\n",
       "      <td>5</td>\n",
       "    </tr>\n",
       "    <tr>\n",
       "      <th>2</th>\n",
       "      <td>7.8</td>\n",
       "      <td>0.76</td>\n",
       "      <td>0.04</td>\n",
       "      <td>2.3</td>\n",
       "      <td>0.092</td>\n",
       "      <td>15.0</td>\n",
       "      <td>54.0</td>\n",
       "      <td>0.9970</td>\n",
       "      <td>3.26</td>\n",
       "      <td>0.65</td>\n",
       "      <td>9.8</td>\n",
       "      <td>5</td>\n",
       "    </tr>\n",
       "    <tr>\n",
       "      <th>3</th>\n",
       "      <td>11.2</td>\n",
       "      <td>0.28</td>\n",
       "      <td>0.56</td>\n",
       "      <td>1.9</td>\n",
       "      <td>0.075</td>\n",
       "      <td>17.0</td>\n",
       "      <td>60.0</td>\n",
       "      <td>0.9980</td>\n",
       "      <td>3.16</td>\n",
       "      <td>0.58</td>\n",
       "      <td>9.8</td>\n",
       "      <td>6</td>\n",
       "    </tr>\n",
       "    <tr>\n",
       "      <th>4</th>\n",
       "      <td>7.4</td>\n",
       "      <td>0.70</td>\n",
       "      <td>0.00</td>\n",
       "      <td>1.9</td>\n",
       "      <td>0.076</td>\n",
       "      <td>11.0</td>\n",
       "      <td>34.0</td>\n",
       "      <td>0.9978</td>\n",
       "      <td>3.51</td>\n",
       "      <td>0.56</td>\n",
       "      <td>9.4</td>\n",
       "      <td>5</td>\n",
       "    </tr>\n",
       "  </tbody>\n",
       "</table>\n",
       "</div>"
      ],
      "text/plain": [
       "   fixed_acidity  volatile_acidity  citric_acid  residual_sugar  chlorides  \\\n",
       "0            7.4              0.70         0.00             1.9      0.076   \n",
       "1            7.8              0.88         0.00             2.6      0.098   \n",
       "2            7.8              0.76         0.04             2.3      0.092   \n",
       "3           11.2              0.28         0.56             1.9      0.075   \n",
       "4            7.4              0.70         0.00             1.9      0.076   \n",
       "\n",
       "   free_sulfur_dioxide  total_sulfur_dioxide  density    pH  sulphates  \\\n",
       "0                 11.0                  34.0   0.9978  3.51       0.56   \n",
       "1                 25.0                  67.0   0.9968  3.20       0.68   \n",
       "2                 15.0                  54.0   0.9970  3.26       0.65   \n",
       "3                 17.0                  60.0   0.9980  3.16       0.58   \n",
       "4                 11.0                  34.0   0.9978  3.51       0.56   \n",
       "\n",
       "   alcohol  quality  \n",
       "0      9.4        5  \n",
       "1      9.8        5  \n",
       "2      9.8        5  \n",
       "3      9.8        6  \n",
       "4      9.4        5  "
      ]
     },
     "metadata": {},
     "output_type": "display_data"
    },
    {
     "name": "stdout",
     "output_type": "stream",
     "text": [
      "\n",
      "Basics statistics: \n"
     ]
    },
    {
     "data": {
      "text/html": [
       "<div>\n",
       "<style scoped>\n",
       "    .dataframe tbody tr th:only-of-type {\n",
       "        vertical-align: middle;\n",
       "    }\n",
       "\n",
       "    .dataframe tbody tr th {\n",
       "        vertical-align: top;\n",
       "    }\n",
       "\n",
       "    .dataframe thead th {\n",
       "        text-align: right;\n",
       "    }\n",
       "</style>\n",
       "<table border=\"1\" class=\"dataframe\">\n",
       "  <thead>\n",
       "    <tr style=\"text-align: right;\">\n",
       "      <th></th>\n",
       "      <th>fixed_acidity</th>\n",
       "      <th>volatile_acidity</th>\n",
       "      <th>citric_acid</th>\n",
       "      <th>residual_sugar</th>\n",
       "      <th>chlorides</th>\n",
       "      <th>free_sulfur_dioxide</th>\n",
       "      <th>total_sulfur_dioxide</th>\n",
       "      <th>density</th>\n",
       "      <th>pH</th>\n",
       "      <th>sulphates</th>\n",
       "      <th>alcohol</th>\n",
       "      <th>quality</th>\n",
       "    </tr>\n",
       "  </thead>\n",
       "  <tbody>\n",
       "    <tr>\n",
       "      <th>count</th>\n",
       "      <td>1599.000000</td>\n",
       "      <td>1599.000000</td>\n",
       "      <td>1599.000000</td>\n",
       "      <td>1599.000000</td>\n",
       "      <td>1599.000000</td>\n",
       "      <td>1599.000000</td>\n",
       "      <td>1599.000000</td>\n",
       "      <td>1599.000000</td>\n",
       "      <td>1599.000000</td>\n",
       "      <td>1599.000000</td>\n",
       "      <td>1599.000000</td>\n",
       "      <td>1599.000000</td>\n",
       "    </tr>\n",
       "    <tr>\n",
       "      <th>mean</th>\n",
       "      <td>8.319637</td>\n",
       "      <td>0.527821</td>\n",
       "      <td>0.270976</td>\n",
       "      <td>2.538806</td>\n",
       "      <td>0.087467</td>\n",
       "      <td>15.874922</td>\n",
       "      <td>46.467792</td>\n",
       "      <td>0.996747</td>\n",
       "      <td>3.311113</td>\n",
       "      <td>0.658149</td>\n",
       "      <td>10.422983</td>\n",
       "      <td>5.636023</td>\n",
       "    </tr>\n",
       "    <tr>\n",
       "      <th>std</th>\n",
       "      <td>1.741096</td>\n",
       "      <td>0.179060</td>\n",
       "      <td>0.194801</td>\n",
       "      <td>1.409928</td>\n",
       "      <td>0.047065</td>\n",
       "      <td>10.460157</td>\n",
       "      <td>32.895324</td>\n",
       "      <td>0.001887</td>\n",
       "      <td>0.154386</td>\n",
       "      <td>0.169507</td>\n",
       "      <td>1.065668</td>\n",
       "      <td>0.807569</td>\n",
       "    </tr>\n",
       "    <tr>\n",
       "      <th>min</th>\n",
       "      <td>4.600000</td>\n",
       "      <td>0.120000</td>\n",
       "      <td>0.000000</td>\n",
       "      <td>0.900000</td>\n",
       "      <td>0.012000</td>\n",
       "      <td>1.000000</td>\n",
       "      <td>6.000000</td>\n",
       "      <td>0.990070</td>\n",
       "      <td>2.740000</td>\n",
       "      <td>0.330000</td>\n",
       "      <td>8.400000</td>\n",
       "      <td>3.000000</td>\n",
       "    </tr>\n",
       "    <tr>\n",
       "      <th>25%</th>\n",
       "      <td>7.100000</td>\n",
       "      <td>0.390000</td>\n",
       "      <td>0.090000</td>\n",
       "      <td>1.900000</td>\n",
       "      <td>0.070000</td>\n",
       "      <td>7.000000</td>\n",
       "      <td>22.000000</td>\n",
       "      <td>0.995600</td>\n",
       "      <td>3.210000</td>\n",
       "      <td>0.550000</td>\n",
       "      <td>9.500000</td>\n",
       "      <td>5.000000</td>\n",
       "    </tr>\n",
       "    <tr>\n",
       "      <th>50%</th>\n",
       "      <td>7.900000</td>\n",
       "      <td>0.520000</td>\n",
       "      <td>0.260000</td>\n",
       "      <td>2.200000</td>\n",
       "      <td>0.079000</td>\n",
       "      <td>14.000000</td>\n",
       "      <td>38.000000</td>\n",
       "      <td>0.996750</td>\n",
       "      <td>3.310000</td>\n",
       "      <td>0.620000</td>\n",
       "      <td>10.200000</td>\n",
       "      <td>6.000000</td>\n",
       "    </tr>\n",
       "    <tr>\n",
       "      <th>75%</th>\n",
       "      <td>9.200000</td>\n",
       "      <td>0.640000</td>\n",
       "      <td>0.420000</td>\n",
       "      <td>2.600000</td>\n",
       "      <td>0.090000</td>\n",
       "      <td>21.000000</td>\n",
       "      <td>62.000000</td>\n",
       "      <td>0.997835</td>\n",
       "      <td>3.400000</td>\n",
       "      <td>0.730000</td>\n",
       "      <td>11.100000</td>\n",
       "      <td>6.000000</td>\n",
       "    </tr>\n",
       "    <tr>\n",
       "      <th>max</th>\n",
       "      <td>15.900000</td>\n",
       "      <td>1.580000</td>\n",
       "      <td>1.000000</td>\n",
       "      <td>15.500000</td>\n",
       "      <td>0.611000</td>\n",
       "      <td>72.000000</td>\n",
       "      <td>289.000000</td>\n",
       "      <td>1.003690</td>\n",
       "      <td>4.010000</td>\n",
       "      <td>2.000000</td>\n",
       "      <td>14.900000</td>\n",
       "      <td>8.000000</td>\n",
       "    </tr>\n",
       "  </tbody>\n",
       "</table>\n",
       "</div>"
      ],
      "text/plain": [
       "       fixed_acidity  volatile_acidity  citric_acid  residual_sugar  \\\n",
       "count    1599.000000       1599.000000  1599.000000     1599.000000   \n",
       "mean        8.319637          0.527821     0.270976        2.538806   \n",
       "std         1.741096          0.179060     0.194801        1.409928   \n",
       "min         4.600000          0.120000     0.000000        0.900000   \n",
       "25%         7.100000          0.390000     0.090000        1.900000   \n",
       "50%         7.900000          0.520000     0.260000        2.200000   \n",
       "75%         9.200000          0.640000     0.420000        2.600000   \n",
       "max        15.900000          1.580000     1.000000       15.500000   \n",
       "\n",
       "         chlorides  free_sulfur_dioxide  total_sulfur_dioxide      density  \\\n",
       "count  1599.000000          1599.000000           1599.000000  1599.000000   \n",
       "mean      0.087467            15.874922             46.467792     0.996747   \n",
       "std       0.047065            10.460157             32.895324     0.001887   \n",
       "min       0.012000             1.000000              6.000000     0.990070   \n",
       "25%       0.070000             7.000000             22.000000     0.995600   \n",
       "50%       0.079000            14.000000             38.000000     0.996750   \n",
       "75%       0.090000            21.000000             62.000000     0.997835   \n",
       "max       0.611000            72.000000            289.000000     1.003690   \n",
       "\n",
       "                pH    sulphates      alcohol      quality  \n",
       "count  1599.000000  1599.000000  1599.000000  1599.000000  \n",
       "mean      3.311113     0.658149    10.422983     5.636023  \n",
       "std       0.154386     0.169507     1.065668     0.807569  \n",
       "min       2.740000     0.330000     8.400000     3.000000  \n",
       "25%       3.210000     0.550000     9.500000     5.000000  \n",
       "50%       3.310000     0.620000    10.200000     6.000000  \n",
       "75%       3.400000     0.730000    11.100000     6.000000  \n",
       "max       4.010000     2.000000    14.900000     8.000000  "
      ]
     },
     "metadata": {},
     "output_type": "display_data"
    },
    {
     "name": "stdout",
     "output_type": "stream",
     "text": [
      "\n",
      "Percentage of missing values: \n"
     ]
    },
    {
     "data": {
      "text/plain": [
       "fixed_acidity           0.0\n",
       "volatile_acidity        0.0\n",
       "citric_acid             0.0\n",
       "residual_sugar          0.0\n",
       "chlorides               0.0\n",
       "free_sulfur_dioxide     0.0\n",
       "total_sulfur_dioxide    0.0\n",
       "density                 0.0\n",
       "pH                      0.0\n",
       "sulphates               0.0\n",
       "alcohol                 0.0\n",
       "quality                 0.0\n",
       "dtype: float64"
      ]
     },
     "metadata": {},
     "output_type": "display_data"
    }
   ],
   "source": [
    "# Basic stats\n",
    "print(\"Number of rows : {}\".format(dataset.shape[0]))\n",
    "print()\n",
    "\n",
    "print(\"Display of dataset: \")\n",
    "display(dataset.head())\n",
    "print()\n",
    "\n",
    "print(\"Basics statistics: \")\n",
    "data_desc = dataset.describe(include='all')\n",
    "display(data_desc)\n",
    "print()\n",
    "\n",
    "print(\"Percentage of missing values: \")\n",
    "display(100*dataset.isnull().sum()/dataset.shape[0])\n"
   ]
  },
  {
   "cell_type": "markdown",
   "metadata": {},
   "source": [
    "The preprocessings are again quite simple here:\n",
    "* no missing values imputation\n",
    "* all the features are numeric, so we want to apply a StandardScaler to the whole X array (this is crucial, especially if we plan to interpret the model's coefficients)\n",
    "* The target is categorical (multiclass) but is already encoded as integer values, so there's no need for a LabelEncoder"
   ]
  },
  {
   "cell_type": "code",
   "execution_count": 25,
   "metadata": {
    "colab": {
     "base_uri": "https://localhost:8080/",
     "height": 319
    },
    "colab_type": "code",
    "id": "Zn2MYjTjrfBJ",
    "outputId": "720c974a-fdfd-4544-c188-229008b33351"
   },
   "outputs": [
    {
     "name": "stdout",
     "output_type": "stream",
     "text": [
      "Separating labels from features...\n",
      "...Done.\n",
      "\n",
      "Y : \n",
      "0    5\n",
      "1    5\n",
      "2    5\n",
      "3    6\n",
      "4    5\n",
      "Name: quality, dtype: int64\n",
      "\n",
      "X :\n",
      "   fixed_acidity  volatile_acidity  citric_acid  residual_sugar  chlorides  \\\n",
      "0            7.4              0.70         0.00             1.9      0.076   \n",
      "1            7.8              0.88         0.00             2.6      0.098   \n",
      "2            7.8              0.76         0.04             2.3      0.092   \n",
      "3           11.2              0.28         0.56             1.9      0.075   \n",
      "4            7.4              0.70         0.00             1.9      0.076   \n",
      "\n",
      "   free_sulfur_dioxide  total_sulfur_dioxide  density    pH  sulphates  \\\n",
      "0                 11.0                  34.0   0.9978  3.51       0.56   \n",
      "1                 25.0                  67.0   0.9968  3.20       0.68   \n",
      "2                 15.0                  54.0   0.9970  3.26       0.65   \n",
      "3                 17.0                  60.0   0.9980  3.16       0.58   \n",
      "4                 11.0                  34.0   0.9978  3.51       0.56   \n",
      "\n",
      "   alcohol  \n",
      "0      9.4  \n",
      "1      9.8  \n",
      "2      9.8  \n",
      "3      9.8  \n",
      "4      9.4  \n"
     ]
    }
   ],
   "source": [
    "# Separate target variable Y from features X\n",
    "print(\"Separating labels from features...\")\n",
    "target_variable = \"quality\"\n",
    "\n",
    "X = dataset.drop(target_variable, axis = 1)\n",
    "Y = dataset.loc[:,target_variable]\n",
    "\n",
    "print(\"...Done.\")\n",
    "print()\n",
    "\n",
    "print('Y : ')\n",
    "print(Y.head())\n",
    "print()\n",
    "print('X :')\n",
    "print(X.head())"
   ]
  },
  {
   "cell_type": "code",
   "execution_count": 26,
   "metadata": {
    "colab": {
     "base_uri": "https://localhost:8080/",
     "height": 67
    },
    "colab_type": "code",
    "id": "Ra8LgBS5s83i",
    "outputId": "6dd938b3-ca4b-4ddb-c55e-f020aed4eca3"
   },
   "outputs": [
    {
     "name": "stdout",
     "output_type": "stream",
     "text": [
      "Dividing into train and test sets...\n",
      "...Done.\n",
      "\n"
     ]
    }
   ],
   "source": [
    "# Divide dataset Train set & Test set \n",
    "print(\"Dividing into train and test sets...\")\n",
    "# WARNING : don't forget stratify=Y for classification problems\n",
    "X_train, X_test, Y_train, Y_test = train_test_split(X, Y, test_size=0.2, random_state=0, stratify = Y)\n",
    "print(\"...Done.\")\n",
    "print()"
   ]
  },
  {
   "cell_type": "code",
   "execution_count": 27,
   "metadata": {},
   "outputs": [
    {
     "name": "stdout",
     "output_type": "stream",
     "text": [
      "Performing preprocessings on train set...\n",
      "      fixed_acidity  volatile_acidity  citric_acid  residual_sugar  chlorides  \\\n",
      "812            10.8              0.45         0.33             2.5      0.099   \n",
      "1249            7.1              0.60         0.01             2.3      0.079   \n",
      "1421            7.5              0.40         0.18             1.6      0.079   \n",
      "157             7.1              0.43         0.42             5.5      0.071   \n",
      "377             9.4              0.27         0.53             2.4      0.074   \n",
      "\n",
      "      free_sulfur_dioxide  total_sulfur_dioxide  density    pH  sulphates  \\\n",
      "812                  20.0                  38.0  0.99818  3.24       0.71   \n",
      "1249                 24.0                  37.0  0.99514  3.40       0.61   \n",
      "1421                 24.0                  58.0  0.99650  3.34       0.58   \n",
      "157                  28.0                 128.0  0.99730  3.42       0.71   \n",
      "377                   6.0                  18.0  0.99620  3.20       1.13   \n",
      "\n",
      "      alcohol  \n",
      "812      10.8  \n",
      "1249     10.9  \n",
      "1421      9.4  \n",
      "157      10.5  \n",
      "377      12.0  \n",
      "...Done.\n",
      "[[ 1.49013921 -0.43246244  0.30109594 -0.02810134  0.22530851  0.38782857\n",
      "  -0.27469635  0.75764763 -0.4727928   0.2956587   0.37235095]\n",
      " [-0.70033256  0.41953919 -1.34441809 -0.16988287 -0.18024998  0.77809823\n",
      "  -0.30519696 -0.85520282  0.57114676 -0.28131334  0.46712131]\n",
      " [-0.46352481 -0.71646299 -0.47023876 -0.66611821 -0.18024998  0.77809823\n",
      "   0.33531603 -0.13366446  0.17966942 -0.45440495 -0.95443411]\n",
      " [-0.70033256 -0.54606266  0.76389676  2.09862156 -0.34247338  1.16836789\n",
      "   2.47035933  0.29076987  0.7016392   0.2956587   0.08803986]\n",
      " [ 0.66131205 -1.4548644   1.3295422  -0.09899211 -0.2816396  -0.97811525\n",
      "  -0.88470872 -0.29282733 -0.73377768  2.71894124  1.50959528]]\n",
      "\n",
      "Performing preprocessings on test set...\n",
      "      fixed_acidity  volatile_acidity  citric_acid  residual_sugar  chlorides  \\\n",
      "954             7.6              0.43         0.40             2.7      0.082   \n",
      "1483            8.1              0.33         0.44             1.5      0.042   \n",
      "174             7.3              0.38         0.21             2.0      0.080   \n",
      "1098            8.0              0.31         0.45             2.1      0.216   \n",
      "374            14.0              0.41         0.63             3.8      0.089   \n",
      "\n",
      "      free_sulfur_dioxide  total_sulfur_dioxide  density    pH  sulphates  \\\n",
      "954                   6.0                  11.0  0.99538  3.44       0.54   \n",
      "1483                  6.0                  12.0  0.99542  3.35       0.61   \n",
      "174                   7.0                  35.0  0.99610  3.33       0.47   \n",
      "1098                  5.0                  16.0  0.99358  3.15       0.81   \n",
      "374                   6.0                  47.0  1.00140  3.01       0.81   \n",
      "\n",
      "      alcohol  \n",
      "954      12.2  \n",
      "1483     10.7  \n",
      "174       9.5  \n",
      "1098     12.5  \n",
      "374      10.8  \n",
      "...Done.\n",
      "[[-4.04322865e-01 -5.46062658e-01  6.61052130e-01  1.13680184e-01\n",
      "  -1.19416207e-01 -9.78115248e-01 -1.09821305e+00 -7.27872521e-01\n",
      "   8.32131644e-01 -6.85193764e-01  1.69913600e+00]\n",
      " [-1.08313166e-01 -1.11406375e+00  8.66741383e-01 -7.37008975e-01\n",
      "  -9.30533191e-01 -9.78115248e-01 -1.06771243e+00 -7.06650805e-01\n",
      "   2.44915646e-01 -2.81313340e-01  2.77580585e-01]\n",
      " [-5.81928685e-01 -8.30063203e-01 -3.15971822e-01 -3.82555159e-01\n",
      "  -1.59972056e-01 -8.80547832e-01 -3.66198201e-01 -3.45881624e-01\n",
      "   1.14423202e-01 -1.08907419e+00 -8.59663750e-01]\n",
      " [-1.67515106e-01 -1.22766397e+00  9.18163697e-01 -3.11664396e-01\n",
      "   2.59782569e+00 -1.07568266e+00 -9.45709955e-01 -1.68284976e+00\n",
      "  -1.06000879e+00  8.72630731e-01  1.98344709e+00]\n",
      " [ 3.38460129e+00 -6.59662876e-01  1.84376534e+00  8.93478580e-01\n",
      "   2.25292657e-02 -9.78115248e-01 -1.90777912e-04  2.46599581e+00\n",
      "  -1.97345590e+00  8.72630731e-01  3.72350946e-01]]\n",
      "\n"
     ]
    }
   ],
   "source": [
    "# Preprocessings on train set\n",
    "print(\"Performing preprocessings on train set...\")\n",
    "print(X_train.head())\n",
    "scaler = StandardScaler()\n",
    "X_train = scaler.fit_transform(X_train)\n",
    "print('...Done.')\n",
    "print(X_train[0:5]) # MUST use this syntax because X_train is a numpy array and not a pandas DataFrame anymore\n",
    "print()\n",
    "\n",
    "# Preprocessings on test set\n",
    "print(\"Performing preprocessings on test set...\")\n",
    "print(X_test.head()) \n",
    "X_test = scaler.transform(X_test) # Don't fit again !!\n",
    "print('...Done.')\n",
    "print(X_test[0:5,:]) # MUST use this syntax because X_test is a numpy array and not a pandas DataFrame anymore\n",
    "print()"
   ]
  },
  {
   "cell_type": "code",
   "execution_count": 28,
   "metadata": {
    "colab": {
     "base_uri": "https://localhost:8080/",
     "height": 50
    },
    "colab_type": "code",
    "id": "fKv5JHVozdpd",
    "outputId": "27248696-e55a-4cb2-d947-29893f42f42d"
   },
   "outputs": [
    {
     "name": "stdout",
     "output_type": "stream",
     "text": [
      "Train model...\n",
      "...Done.\n"
     ]
    }
   ],
   "source": [
    "# Train model\n",
    "print(\"Train model...\")\n",
    "classifier = LogisticRegression(max_iter = 1000)\n",
    "classifier.fit(X_train, Y_train)\n",
    "print(\"...Done.\")"
   ]
  },
  {
   "cell_type": "code",
   "execution_count": 29,
   "metadata": {},
   "outputs": [
    {
     "name": "stdout",
     "output_type": "stream",
     "text": [
      "accuracy score on training set :  0.6004691164972635\n",
      "accuracy score on test set :  0.61875\n"
     ]
    }
   ],
   "source": [
    "# Print accuracy\n",
    "print(\"accuracy score on training set : \", classifier.score(X_train, Y_train))\n",
    "print(\"accuracy score on test set : \", classifier.score(X_test, Y_test))"
   ]
  },
  {
   "cell_type": "markdown",
   "metadata": {},
   "source": [
    "10. Is this model significantly better than the baseline?"
   ]
  },
  {
   "cell_type": "code",
   "execution_count": 30,
   "metadata": {},
   "outputs": [
    {
     "name": "stdout",
     "output_type": "stream",
     "text": [
      "10-fold cross-validation...\n"
     ]
    },
    {
     "name": "stderr",
     "output_type": "stream",
     "text": [
      "c:\\Users\\pierr\\anaconda3\\Lib\\site-packages\\sklearn\\model_selection\\_split.py:725: UserWarning:\n",
      "\n",
      "The least populated class in y has only 8 members, which is less than n_splits=10.\n",
      "\n"
     ]
    },
    {
     "name": "stdout",
     "output_type": "stream",
     "text": [
      "The cross-validated accuracy is :  0.5910986712598425\n",
      "The standard deviation is :  0.05437570023889957\n"
     ]
    }
   ],
   "source": [
    "# Perform 10-fold cross-validation \n",
    "print(\"10-fold cross-validation...\")\n",
    "scores = cross_val_score(classifier, X_train, Y_train, cv=10)\n",
    "print('The cross-validated accuracy is : ', scores.mean())\n",
    "print('The standard deviation is : ', scores.std())"
   ]
  },
  {
   "cell_type": "markdown",
   "metadata": {},
   "source": [
    "The multivariate model is just slightly better than the baseline. "
   ]
  },
  {
   "cell_type": "markdown",
   "metadata": {},
   "source": [
    "11. Extract the model's predictions on train/test sets. Use these values to plot the confusion matrices."
   ]
  },
  {
   "cell_type": "code",
   "execution_count": 31,
   "metadata": {
    "colab": {
     "base_uri": "https://localhost:8080/",
     "height": 101
    },
    "colab_type": "code",
    "id": "3SnwgbTP1nDt",
    "outputId": "69792eef-997d-42a3-8a7d-e07fa99b8735"
   },
   "outputs": [
    {
     "name": "stdout",
     "output_type": "stream",
     "text": [
      "Predictions on training set...\n",
      "...Done.\n",
      "[6 6 5 5 7]\n",
      "\n",
      "Predictions on test set...\n",
      "...Done.\n",
      "[6 6 5 6 6]\n",
      "\n"
     ]
    }
   ],
   "source": [
    "# Predictions on training set\n",
    "print(\"Predictions on training set...\")\n",
    "Y_train_pred = classifier.predict(X_train)\n",
    "print(\"...Done.\")\n",
    "print(Y_train_pred[:5])\n",
    "print()\n",
    "\n",
    "# Predictions on test set\n",
    "print(\"Predictions on test set...\")\n",
    "Y_test_pred = classifier.predict(X_test)\n",
    "print(\"...Done.\")\n",
    "print(Y_test_pred[:5])\n",
    "print()\n"
   ]
  },
  {
   "cell_type": "code",
   "execution_count": 32,
   "metadata": {},
   "outputs": [
    {
     "data": {
      "image/png": "[encoded data removed]",
      "text/plain": [
       "<Figure size 640x480 with 2 Axes>"
      ]
     },
     "metadata": {},
     "output_type": "display_data"
    },
    {
     "data": {
      "image/png": "[encoded data removed]",
      "text/plain": [
       "<Figure size 640x480 with 2 Axes>"
      ]
     },
     "metadata": {},
     "output_type": "display_data"
    }
   ],
   "source": [
    "# Visualize confusion matrices\n",
    "_ , ax = plt.subplots() # Get subplot from matplotlib\n",
    "ax.set(title=\"Confusion Matrix on Train set\") # Set a title that we will add into ConfusionMatrixDisplay\n",
    "ConfusionMatrixDisplay.from_estimator(classifier, X_train, Y_train, ax=ax) # ConfusionMatrixDisplay from sklearn\n",
    "plt.show()\n",
    "\n",
    "_ , ax = plt.subplots() # Get subplot from matplotlib\n",
    "ax.set(title=\"Confusion Matrix on Test set\") # Set a title that we will add into ConfusionMatrixDisplay\n",
    "ConfusionMatrixDisplay.from_estimator(classifier, X_test, Y_test, ax=ax) # ConfusionMatrixDisplay from sklearn\n",
    "plt.show()"
   ]
  },
  {
   "cell_type": "markdown",
   "metadata": {},
   "source": [
    "12. Analyze the model's coefficients. Can you deduce easily what are the most important features to predict the wine quality?"
   ]
  },
  {
   "cell_type": "code",
   "execution_count": 33,
   "metadata": {},
   "outputs": [
    {
     "name": "stdout",
     "output_type": "stream",
     "text": [
      "Coefficients of the Logistic regression model:\n"
     ]
    },
    {
     "data": {
      "text/plain": [
       "array([[ 0.27475783,  1.11111673, -0.11934497, -0.06266476,  0.88431261,\n",
       "         0.4009792 , -0.99544519,  0.44073298,  0.65454341, -0.5092293 ,\n",
       "        -0.83666126],\n",
       "       [ 0.43162113,  0.41074275,  0.00146886,  0.17007934,  0.37166178,\n",
       "        -0.37606089,  0.29995228, -0.49481693,  0.42420066, -0.34244837,\n",
       "        -0.71628399],\n",
       "       [-0.57630058,  0.04174114,  0.10255601, -0.27256304,  0.18849432,\n",
       "        -0.16575236,  0.83454887,  0.40952806, -0.21210348, -0.39019108,\n",
       "        -0.60676216],\n",
       "       [-0.19916375, -0.37912627, -0.19688884, -0.16427731,  0.10003052,\n",
       "         0.01996808,  0.3662384 ,  0.13577815, -0.16821523, -0.00928464,\n",
       "         0.21137696],\n",
       "       [ 0.40659337, -0.70027208, -0.09126679,  0.24776367, -0.51188268,\n",
       "         0.0484215 ,  0.07276221, -0.37355596, -0.06761856,  0.45223871,\n",
       "         0.64329162],\n",
       "       [-0.337508  , -0.48420228,  0.30347573,  0.08166209, -1.03261655,\n",
       "         0.07244447, -0.57805658, -0.11766631, -0.63080681,  0.79891468,\n",
       "         1.30503883]])"
      ]
     },
     "execution_count": 33,
     "metadata": {},
     "output_type": "execute_result"
    }
   ],
   "source": [
    "print('Coefficients of the Logistic regression model:')\n",
    "classifier.coef_"
   ]
  },
  {
   "cell_type": "code",
   "execution_count": 34,
   "metadata": {},
   "outputs": [
    {
     "data": {
      "text/html": [
       "<div>\n",
       "<style scoped>\n",
       "    .dataframe tbody tr th:only-of-type {\n",
       "        vertical-align: middle;\n",
       "    }\n",
       "\n",
       "    .dataframe tbody tr th {\n",
       "        vertical-align: top;\n",
       "    }\n",
       "\n",
       "    .dataframe thead th {\n",
       "        text-align: right;\n",
       "    }\n",
       "</style>\n",
       "<table border=\"1\" class=\"dataframe\">\n",
       "  <thead>\n",
       "    <tr style=\"text-align: right;\">\n",
       "      <th></th>\n",
       "      <th>3</th>\n",
       "      <th>4</th>\n",
       "      <th>5</th>\n",
       "      <th>6</th>\n",
       "      <th>7</th>\n",
       "      <th>8</th>\n",
       "    </tr>\n",
       "  </thead>\n",
       "  <tbody>\n",
       "    <tr>\n",
       "      <th>fixed_acidity</th>\n",
       "      <td>0.274758</td>\n",
       "      <td>0.431621</td>\n",
       "      <td>-0.576301</td>\n",
       "      <td>-0.199164</td>\n",
       "      <td>0.406593</td>\n",
       "      <td>-0.337508</td>\n",
       "    </tr>\n",
       "    <tr>\n",
       "      <th>volatile_acidity</th>\n",
       "      <td>1.111117</td>\n",
       "      <td>0.410743</td>\n",
       "      <td>0.041741</td>\n",
       "      <td>-0.379126</td>\n",
       "      <td>-0.700272</td>\n",
       "      <td>-0.484202</td>\n",
       "    </tr>\n",
       "    <tr>\n",
       "      <th>citric_acid</th>\n",
       "      <td>-0.119345</td>\n",
       "      <td>0.001469</td>\n",
       "      <td>0.102556</td>\n",
       "      <td>-0.196889</td>\n",
       "      <td>-0.091267</td>\n",
       "      <td>0.303476</td>\n",
       "    </tr>\n",
       "    <tr>\n",
       "      <th>residual_sugar</th>\n",
       "      <td>-0.062665</td>\n",
       "      <td>0.170079</td>\n",
       "      <td>-0.272563</td>\n",
       "      <td>-0.164277</td>\n",
       "      <td>0.247764</td>\n",
       "      <td>0.081662</td>\n",
       "    </tr>\n",
       "    <tr>\n",
       "      <th>chlorides</th>\n",
       "      <td>0.884313</td>\n",
       "      <td>0.371662</td>\n",
       "      <td>0.188494</td>\n",
       "      <td>0.100031</td>\n",
       "      <td>-0.511883</td>\n",
       "      <td>-1.032617</td>\n",
       "    </tr>\n",
       "    <tr>\n",
       "      <th>free_sulfur_dioxide</th>\n",
       "      <td>0.400979</td>\n",
       "      <td>-0.376061</td>\n",
       "      <td>-0.165752</td>\n",
       "      <td>0.019968</td>\n",
       "      <td>0.048422</td>\n",
       "      <td>0.072444</td>\n",
       "    </tr>\n",
       "    <tr>\n",
       "      <th>total_sulfur_dioxide</th>\n",
       "      <td>-0.995445</td>\n",
       "      <td>0.299952</td>\n",
       "      <td>0.834549</td>\n",
       "      <td>0.366238</td>\n",
       "      <td>0.072762</td>\n",
       "      <td>-0.578057</td>\n",
       "    </tr>\n",
       "    <tr>\n",
       "      <th>density</th>\n",
       "      <td>0.440733</td>\n",
       "      <td>-0.494817</td>\n",
       "      <td>0.409528</td>\n",
       "      <td>0.135778</td>\n",
       "      <td>-0.373556</td>\n",
       "      <td>-0.117666</td>\n",
       "    </tr>\n",
       "    <tr>\n",
       "      <th>pH</th>\n",
       "      <td>0.654543</td>\n",
       "      <td>0.424201</td>\n",
       "      <td>-0.212103</td>\n",
       "      <td>-0.168215</td>\n",
       "      <td>-0.067619</td>\n",
       "      <td>-0.630807</td>\n",
       "    </tr>\n",
       "    <tr>\n",
       "      <th>sulphates</th>\n",
       "      <td>-0.509229</td>\n",
       "      <td>-0.342448</td>\n",
       "      <td>-0.390191</td>\n",
       "      <td>-0.009285</td>\n",
       "      <td>0.452239</td>\n",
       "      <td>0.798915</td>\n",
       "    </tr>\n",
       "    <tr>\n",
       "      <th>alcohol</th>\n",
       "      <td>-0.836661</td>\n",
       "      <td>-0.716284</td>\n",
       "      <td>-0.606762</td>\n",
       "      <td>0.211377</td>\n",
       "      <td>0.643292</td>\n",
       "      <td>1.305039</td>\n",
       "    </tr>\n",
       "  </tbody>\n",
       "</table>\n",
       "</div>"
      ],
      "text/plain": [
       "                             3         4         5         6         7  \\\n",
       "fixed_acidity         0.274758  0.431621 -0.576301 -0.199164  0.406593   \n",
       "volatile_acidity      1.111117  0.410743  0.041741 -0.379126 -0.700272   \n",
       "citric_acid          -0.119345  0.001469  0.102556 -0.196889 -0.091267   \n",
       "residual_sugar       -0.062665  0.170079 -0.272563 -0.164277  0.247764   \n",
       "chlorides             0.884313  0.371662  0.188494  0.100031 -0.511883   \n",
       "free_sulfur_dioxide   0.400979 -0.376061 -0.165752  0.019968  0.048422   \n",
       "total_sulfur_dioxide -0.995445  0.299952  0.834549  0.366238  0.072762   \n",
       "density               0.440733 -0.494817  0.409528  0.135778 -0.373556   \n",
       "pH                    0.654543  0.424201 -0.212103 -0.168215 -0.067619   \n",
       "sulphates            -0.509229 -0.342448 -0.390191 -0.009285  0.452239   \n",
       "alcohol              -0.836661 -0.716284 -0.606762  0.211377  0.643292   \n",
       "\n",
       "                             8  \n",
       "fixed_acidity        -0.337508  \n",
       "volatile_acidity     -0.484202  \n",
       "citric_acid           0.303476  \n",
       "residual_sugar        0.081662  \n",
       "chlorides            -1.032617  \n",
       "free_sulfur_dioxide   0.072444  \n",
       "total_sulfur_dioxide -0.578057  \n",
       "density              -0.117666  \n",
       "pH                   -0.630807  \n",
       "sulphates             0.798915  \n",
       "alcohol               1.305039  "
      ]
     },
     "execution_count": 34,
     "metadata": {},
     "output_type": "execute_result"
    }
   ],
   "source": [
    "# Create a pandas DataFrame with the model's coefficients\n",
    "coefs = pd.DataFrame(index = X.columns, data = classifier.coef_.transpose(), columns=[3, 4, 5, 6, 7, 8])\n",
    "coefs"
   ]
  },
  {
   "cell_type": "markdown",
   "metadata": {},
   "source": [
    "In multiclass classification, one logistic regression is fitted independently for each category. That's why we get as many sets of coefficients as there are different values of the target! In this case, interpreting the coefficients is much more difficult. To conclude about feature importance, it would be more convenient to use a Chi2 test."
   ]
  },
  {
   "cell_type": "markdown",
   "metadata": {
    "colab_type": "text",
    "id": "E_52oVXGzH1t"
   },
   "source": [
    "13. Use Chi2 test in order to analyse the importance of each variable in your dataset. You may find more information on this test following this link : [scikitlearn](https://scikit-learn.org/stable/modules/generated/sklearn.feature_selection.chi2.html)"
   ]
  },
  {
   "cell_type": "code",
   "execution_count": 35,
   "metadata": {
    "colab": {
     "base_uri": "https://localhost:8080/",
     "height": 118
    },
    "colab_type": "code",
    "executionInfo": {
     "elapsed": 56475,
     "status": "ok",
     "timestamp": 1588173984019,
     "user": {
      "displayName": "Philéas Samir",
      "photoUrl": "https://lh5.googleusercontent.com/-FbBGbDYQ448/AAAAAAAAAAI/AAAAAAAAAUo/cYIvd5guwHI/s64/photo.jpg",
      "userId": "10441094633115017513"
     },
     "user_tz": -120
    },
    "id": "72bOQUMvybcl",
    "outputId": "fcd8a502-b754-48d2-d647-14764a1b0c83"
   },
   "outputs": [
    {
     "data": {
      "text/plain": [
       "(array([1.12606524e+01, 1.55802891e+01, 1.30256651e+01, 4.12329474e+00,\n",
       "        7.52425579e-01, 1.61936036e+02, 2.75555798e+03, 2.30432045e-04,\n",
       "        1.54654736e-01, 4.55848775e+00, 4.64298922e+01]),\n",
       " array([4.64500416e-02, 8.15035154e-03, 2.31394417e-02, 5.31804675e-01,\n",
       "        9.79968040e-01, 3.82728810e-33, 0.00000000e+00, 1.00000000e+00,\n",
       "        9.99526491e-01, 4.72096321e-01, 7.42403757e-09]))"
      ]
     },
     "execution_count": 35,
     "metadata": {},
     "output_type": "execute_result"
    }
   ],
   "source": [
    "from sklearn.feature_selection import chi2\n",
    "feature_importance = chi2(X, Y)\n",
    "feature_importance "
   ]
  },
  {
   "cell_type": "markdown",
   "metadata": {
    "colab_type": "text",
    "id": "FWogcBIIzui0"
   },
   "source": [
    "14. Put these values into a DataFrame for more readability."
   ]
  },
  {
   "cell_type": "code",
   "execution_count": 36,
   "metadata": {
    "colab": {
     "base_uri": "https://localhost:8080/",
     "height": 373
    },
    "colab_type": "code",
    "executionInfo": {
     "elapsed": 56468,
     "status": "ok",
     "timestamp": 1588173984020,
     "user": {
      "displayName": "Philéas Samir",
      "photoUrl": "https://lh5.googleusercontent.com/-FbBGbDYQ448/AAAAAAAAAAI/AAAAAAAAAUo/cYIvd5guwHI/s64/photo.jpg",
      "userId": "10441094633115017513"
     },
     "user_tz": -120
    },
    "id": "L8QiXb0GzrN6",
    "outputId": "b0b252d8-cc74-4129-f958-aa78d1737a08"
   },
   "outputs": [
    {
     "data": {
      "text/html": [
       "<div>\n",
       "<style scoped>\n",
       "    .dataframe tbody tr th:only-of-type {\n",
       "        vertical-align: middle;\n",
       "    }\n",
       "\n",
       "    .dataframe tbody tr th {\n",
       "        vertical-align: top;\n",
       "    }\n",
       "\n",
       "    .dataframe thead th {\n",
       "        text-align: right;\n",
       "    }\n",
       "</style>\n",
       "<table border=\"1\" class=\"dataframe\">\n",
       "  <thead>\n",
       "    <tr style=\"text-align: right;\">\n",
       "      <th></th>\n",
       "      <th>feature</th>\n",
       "      <th>Chi2 Score</th>\n",
       "      <th>P-value</th>\n",
       "    </tr>\n",
       "  </thead>\n",
       "  <tbody>\n",
       "    <tr>\n",
       "      <th>0</th>\n",
       "      <td>density</td>\n",
       "      <td>0.000230</td>\n",
       "      <td>1.000000e+00</td>\n",
       "    </tr>\n",
       "    <tr>\n",
       "      <th>1</th>\n",
       "      <td>pH</td>\n",
       "      <td>0.154655</td>\n",
       "      <td>9.995265e-01</td>\n",
       "    </tr>\n",
       "    <tr>\n",
       "      <th>2</th>\n",
       "      <td>chlorides</td>\n",
       "      <td>0.752426</td>\n",
       "      <td>9.799680e-01</td>\n",
       "    </tr>\n",
       "    <tr>\n",
       "      <th>3</th>\n",
       "      <td>residual_sugar</td>\n",
       "      <td>4.123295</td>\n",
       "      <td>5.318047e-01</td>\n",
       "    </tr>\n",
       "    <tr>\n",
       "      <th>4</th>\n",
       "      <td>sulphates</td>\n",
       "      <td>4.558488</td>\n",
       "      <td>4.720963e-01</td>\n",
       "    </tr>\n",
       "    <tr>\n",
       "      <th>5</th>\n",
       "      <td>fixed_acidity</td>\n",
       "      <td>11.260652</td>\n",
       "      <td>4.645004e-02</td>\n",
       "    </tr>\n",
       "    <tr>\n",
       "      <th>6</th>\n",
       "      <td>citric_acid</td>\n",
       "      <td>13.025665</td>\n",
       "      <td>2.313944e-02</td>\n",
       "    </tr>\n",
       "    <tr>\n",
       "      <th>7</th>\n",
       "      <td>volatile_acidity</td>\n",
       "      <td>15.580289</td>\n",
       "      <td>8.150352e-03</td>\n",
       "    </tr>\n",
       "    <tr>\n",
       "      <th>8</th>\n",
       "      <td>alcohol</td>\n",
       "      <td>46.429892</td>\n",
       "      <td>7.424038e-09</td>\n",
       "    </tr>\n",
       "    <tr>\n",
       "      <th>9</th>\n",
       "      <td>free_sulfur_dioxide</td>\n",
       "      <td>161.936036</td>\n",
       "      <td>3.827288e-33</td>\n",
       "    </tr>\n",
       "    <tr>\n",
       "      <th>10</th>\n",
       "      <td>total_sulfur_dioxide</td>\n",
       "      <td>2755.557984</td>\n",
       "      <td>0.000000e+00</td>\n",
       "    </tr>\n",
       "  </tbody>\n",
       "</table>\n",
       "</div>"
      ],
      "text/plain": [
       "                 feature   Chi2 Score       P-value\n",
       "0                density     0.000230  1.000000e+00\n",
       "1                     pH     0.154655  9.995265e-01\n",
       "2              chlorides     0.752426  9.799680e-01\n",
       "3         residual_sugar     4.123295  5.318047e-01\n",
       "4              sulphates     4.558488  4.720963e-01\n",
       "5          fixed_acidity    11.260652  4.645004e-02\n",
       "6            citric_acid    13.025665  2.313944e-02\n",
       "7       volatile_acidity    15.580289  8.150352e-03\n",
       "8                alcohol    46.429892  7.424038e-09\n",
       "9    free_sulfur_dioxide   161.936036  3.827288e-33\n",
       "10  total_sulfur_dioxide  2755.557984  0.000000e+00"
      ]
     },
     "execution_count": 36,
     "metadata": {},
     "output_type": "execute_result"
    }
   ],
   "source": [
    "feature_ranking = pd.DataFrame(columns=X.columns, data=feature_importance, \n",
    "                               index=[\"Chi2 Score\", \"P-value\"]).transpose().sort_values(\"Chi2 Score\")\n",
    "feature_ranking = feature_ranking.reset_index().rename({'index': 'feature'}, axis = 1)\n",
    "feature_ranking"
   ]
  },
  {
   "cell_type": "markdown",
   "metadata": {
    "colab_type": "text",
    "id": "ZtxliPX50boT"
   },
   "source": [
    "15. Create a barchart visualization, what can you conclude ?"
   ]
  },
  {
   "cell_type": "code",
   "execution_count": 37,
   "metadata": {},
   "outputs": [
    {
     "data": {
      "image/svg+xml": [
       "<svg class=\"main-svg\" xmlns=\"http://www.w3.org/2000/svg\" xmlns:xlink=\"http://www.w3.org/1999/xlink\" width=\"700\" height=\"500\" style=\"\" viewBox=\"0 0 700 500\"><rect x=\"0\" y=\"0\" width=\"700\" height=\"500\" style=\"fill: rgb(255, 255, 255); fill-opacity: 1;\"/><defs id=\"defs-e720a1\"><g class=\"clips\"><clipPath id=\"clipe720a1xyplot\" class=\"plotclip\"><rect width=\"500\" height=\"360\"/></clipPath><clipPath class=\"axesclip\" id=\"clipe720a1x\"><rect x=\"120\" y=\"0\" width=\"500\" height=\"500\"/></clipPath><clipPath class=\"axesclip\" id=\"clipe720a1y\"><rect x=\"0\" y=\"60\" width=\"700\" height=\"360\"/></clipPath><clipPath class=\"axesclip\" id=\"clipe720a1xy\"><rect x=\"120\" y=\"60\" width=\"500\" height=\"360\"/></clipPath></g><g class=\"gradients\"/><g class=\"patterns\"/></defs><g class=\"bglayer\"/><g class=\"layer-below\"><g class=\"imagelayer\"/><g class=\"shapelayer\"/></g><g class=\"cartesianlayer\"><g class=\"subplot xy\"><g class=\"layer-subplot\"><g class=\"shapelayer\"/><g class=\"imagelayer\"/></g><g class=\"minor-gridlayer\"><g class=\"x\"/><g class=\"y\"/></g><g class=\"gridlayer\"><g class=\"x\"><path class=\"xgrid crisp\" transform=\"translate(206.19,0)\" d=\"M0,60v360\" style=\"stroke: rgb(238, 238, 238); stroke-opacity: 1; stroke-width: 1px;\"/><path class=\"xgrid crisp\" transform=\"translate(292.38,0)\" d=\"M0,60v360\" style=\"stroke: rgb(238, 238, 238); stroke-opacity: 1; stroke-width: 1px;\"/><path class=\"xgrid crisp\" transform=\"translate(378.57,0)\" d=\"M0,60v360\" style=\"stroke: rgb(238, 238, 238); stroke-opacity: 1; stroke-width: 1px;\"/><path class=\"xgrid crisp\" transform=\"translate(464.76,0)\" d=\"M0,60v360\" style=\"stroke: rgb(238, 238, 238); stroke-opacity: 1; stroke-width: 1px;\"/><path class=\"xgrid crisp\" transform=\"translate(550.95,0)\" d=\"M0,60v360\" style=\"stroke: rgb(238, 238, 238); stroke-opacity: 1; stroke-width: 1px;\"/></g><g class=\"y\"/></g><g class=\"zerolinelayer\"><path class=\"xzl zl crisp\" transform=\"translate(120,0)\" d=\"M0,60v360\" style=\"stroke: rgb(68, 68, 68); stroke-opacity: 1; stroke-width: 1px;\"/></g><path class=\"xlines-below\"/><path class=\"ylines-below\"/><g class=\"overlines-below\"/><g class=\"xaxislayer-below\"/><g class=\"yaxislayer-below\"/><g class=\"overaxes-below\"/><g class=\"plot\" transform=\"translate(120,60)\" clip-path=\"url(#clipe720a1xyplot)\"><g class=\"barlayer mlayer\"><g class=\"trace bars\" style=\"opacity: 1;\"><g class=\"points\"><g class=\"point\"><path d=\"M0,0Z\" style=\"vector-effect: none; opacity: 1; stroke-width: 0px; fill: rgb(75, 154, 199); fill-opacity: 1;\"/></g><g class=\"point\"><path d=\"M0,324V297.82H0.03V324Z\" style=\"vector-effect: none; opacity: 1; stroke-width: 0px; fill: rgb(75, 154, 199); fill-opacity: 1;\"/></g><g class=\"point\"><path d=\"M0,291.27V265.09H0.13V291.27Z\" style=\"vector-effect: none; opacity: 1; stroke-width: 0px; fill: rgb(75, 154, 199); fill-opacity: 1;\"/></g><g class=\"point\"><path d=\"M0,258.55V232.36H0.71V258.55Z\" style=\"vector-effect: none; opacity: 1; stroke-width: 0px; fill: rgb(75, 154, 199); fill-opacity: 1;\"/></g><g class=\"point\"><path d=\"M0,225.82V199.64H0.79V225.82Z\" style=\"vector-effect: none; opacity: 1; stroke-width: 0px; fill: rgb(75, 154, 199); fill-opacity: 1;\"/></g><g class=\"point\"><path d=\"M0,193.09V166.91H1.94V193.09Z\" style=\"vector-effect: none; opacity: 1; stroke-width: 0px; fill: rgb(75, 154, 199); fill-opacity: 1;\"/></g><g class=\"point\"><path d=\"M0,160.36V134.18H2.25V160.36Z\" style=\"vector-effect: none; opacity: 1; stroke-width: 0px; fill: rgb(75, 154, 199); fill-opacity: 1;\"/></g><g class=\"point\"><path d=\"M0,127.64V101.45H2.69V127.64Z\" style=\"vector-effect: none; opacity: 1; stroke-width: 0px; fill: rgb(75, 154, 199); fill-opacity: 1;\"/></g><g class=\"point\"><path d=\"M0,94.91V68.73H8V94.91Z\" style=\"vector-effect: none; opacity: 1; stroke-width: 0px; fill: rgb(75, 154, 199); fill-opacity: 1;\"/></g><g class=\"point\"><path d=\"M0,62.18V36H27.91V62.18Z\" style=\"vector-effect: none; opacity: 1; stroke-width: 0px; fill: rgb(75, 154, 199); fill-opacity: 1;\"/></g><g class=\"point\"><path d=\"M0,29.45V3.27H475V29.45Z\" style=\"vector-effect: none; opacity: 1; stroke-width: 0px; fill: rgb(75, 154, 199); fill-opacity: 1;\"/></g></g></g></g></g><g class=\"overplot\"/><path class=\"xlines-above crisp\" d=\"M0,0\" style=\"fill: none;\"/><path class=\"ylines-above crisp\" d=\"M0,0\" style=\"fill: none;\"/><g class=\"overlines-above\"/><g class=\"xaxislayer-above\"><g class=\"xtick\"><text text-anchor=\"middle\" x=\"0\" y=\"433\" transform=\"translate(120,0)\" style=\"font-family: 'Open Sans', verdana, arial, sans-serif; font-size: 12px; fill: rgb(68, 68, 68); fill-opacity: 1; white-space: pre; opacity: 1;\">0</text></g><g class=\"xtick\"><text text-anchor=\"middle\" x=\"0\" y=\"433\" style=\"font-family: 'Open Sans', verdana, arial, sans-serif; font-size: 12px; fill: rgb(68, 68, 68); fill-opacity: 1; white-space: pre; opacity: 1;\" transform=\"translate(206.19,0)\">500</text></g><g class=\"xtick\"><text text-anchor=\"middle\" x=\"0\" y=\"433\" style=\"font-family: 'Open Sans', verdana, arial, sans-serif; font-size: 12px; fill: rgb(68, 68, 68); fill-opacity: 1; white-space: pre; opacity: 1;\" transform=\"translate(292.38,0)\">1000</text></g><g class=\"xtick\"><text text-anchor=\"middle\" x=\"0\" y=\"433\" style=\"font-family: 'Open Sans', verdana, arial, sans-serif; font-size: 12px; fill: rgb(68, 68, 68); fill-opacity: 1; white-space: pre; opacity: 1;\" transform=\"translate(378.57,0)\">1500</text></g><g class=\"xtick\"><text text-anchor=\"middle\" x=\"0\" y=\"433\" style=\"font-family: 'Open Sans', verdana, arial, sans-serif; font-size: 12px; fill: rgb(68, 68, 68); fill-opacity: 1; white-space: pre; opacity: 1;\" transform=\"translate(464.76,0)\">2000</text></g><g class=\"xtick\"><text text-anchor=\"middle\" x=\"0\" y=\"433\" style=\"font-family: 'Open Sans', verdana, arial, sans-serif; font-size: 12px; fill: rgb(68, 68, 68); fill-opacity: 1; white-space: pre; opacity: 1;\" transform=\"translate(550.95,0)\">2500</text></g></g><g class=\"yaxislayer-above\"><g class=\"ytick\"><text text-anchor=\"end\" x=\"119\" y=\"4.199999999999999\" transform=\"translate(0,403.64)\" style=\"font-family: 'Open Sans', verdana, arial, sans-serif; font-size: 12px; fill: rgb(68, 68, 68); fill-opacity: 1; white-space: pre; opacity: 1;\">density</text></g><g class=\"ytick\"><text text-anchor=\"end\" x=\"119\" y=\"4.199999999999999\" transform=\"translate(0,370.91)\" style=\"font-family: 'Open Sans', verdana, arial, sans-serif; font-size: 12px; fill: rgb(68, 68, 68); fill-opacity: 1; white-space: pre; opacity: 1;\">pH</text></g><g class=\"ytick\"><text text-anchor=\"end\" x=\"119\" y=\"4.199999999999999\" transform=\"translate(0,338.18)\" style=\"font-family: 'Open Sans', verdana, arial, sans-serif; font-size: 12px; fill: rgb(68, 68, 68); fill-opacity: 1; white-space: pre; opacity: 1;\">chlorides</text></g><g class=\"ytick\"><text text-anchor=\"end\" x=\"119\" y=\"4.199999999999999\" transform=\"translate(0,305.45)\" style=\"font-family: 'Open Sans', verdana, arial, sans-serif; font-size: 12px; fill: rgb(68, 68, 68); fill-opacity: 1; white-space: pre; opacity: 1;\">residual_sugar</text></g><g class=\"ytick\"><text text-anchor=\"end\" x=\"119\" y=\"4.199999999999999\" transform=\"translate(0,272.73)\" style=\"font-family: 'Open Sans', verdana, arial, sans-serif; font-size: 12px; fill: rgb(68, 68, 68); fill-opacity: 1; white-space: pre; opacity: 1;\">sulphates</text></g><g class=\"ytick\"><text text-anchor=\"end\" x=\"119\" y=\"4.199999999999999\" transform=\"translate(0,240)\" style=\"font-family: 'Open Sans', verdana, arial, sans-serif; font-size: 12px; fill: rgb(68, 68, 68); fill-opacity: 1; white-space: pre; opacity: 1;\">fixed_acidity</text></g><g class=\"ytick\"><text text-anchor=\"end\" x=\"119\" y=\"4.199999999999999\" transform=\"translate(0,207.27)\" style=\"font-family: 'Open Sans', verdana, arial, sans-serif; font-size: 12px; fill: rgb(68, 68, 68); fill-opacity: 1; white-space: pre; opacity: 1;\">citric_acid</text></g><g class=\"ytick\"><text text-anchor=\"end\" x=\"119\" y=\"4.199999999999999\" transform=\"translate(0,174.55)\" style=\"font-family: 'Open Sans', verdana, arial, sans-serif; font-size: 12px; fill: rgb(68, 68, 68); fill-opacity: 1; white-space: pre; opacity: 1;\">volatile_acidity</text></g><g class=\"ytick\"><text text-anchor=\"end\" x=\"119\" y=\"4.199999999999999\" transform=\"translate(0,141.82)\" style=\"font-family: 'Open Sans', verdana, arial, sans-serif; font-size: 12px; fill: rgb(68, 68, 68); fill-opacity: 1; white-space: pre; opacity: 1;\">alcohol</text></g><g class=\"ytick\"><text text-anchor=\"end\" x=\"119\" y=\"4.199999999999999\" transform=\"translate(0,109.09)\" style=\"font-family: 'Open Sans', verdana, arial, sans-serif; font-size: 12px; fill: rgb(68, 68, 68); fill-opacity: 1; white-space: pre; opacity: 1;\">free_sulfur_dioxide</text></g><g class=\"ytick\"><text text-anchor=\"end\" x=\"119\" y=\"4.199999999999999\" transform=\"translate(0,76.36)\" style=\"font-family: 'Open Sans', verdana, arial, sans-serif; font-size: 12px; fill: rgb(68, 68, 68); fill-opacity: 1; white-space: pre; opacity: 1;\">total_sulfur_dioxide</text></g></g><g class=\"overaxes-above\"/></g></g><g class=\"polarlayer\"/><g class=\"smithlayer\"/><g class=\"ternarylayer\"/><g class=\"geolayer\"/><g class=\"funnelarealayer\"/><g class=\"pielayer\"/><g class=\"iciclelayer\"/><g class=\"treemaplayer\"/><g class=\"sunburstlayer\"/><g class=\"glimages\"/><defs id=\"topdefs-e720a1\"><g class=\"clips\"/></defs><g class=\"layer-above\"><g class=\"imagelayer\"/><g class=\"shapelayer\"/></g><g class=\"infolayer\"><g class=\"g-gtitle\"/><g class=\"g-xtitle\"><text class=\"xtitle\" x=\"370\" y=\"472\" text-anchor=\"middle\" style=\"font-family: 'Open Sans', verdana, arial, sans-serif; font-size: 14px; fill: rgb(68, 68, 68); opacity: 1; font-weight: normal; white-space: pre;\">Chi2 Score</text></g><g class=\"g-ytitle\" transform=\"translate(-45.03125,0)\"><text class=\"ytitle\" transform=\"rotate(-90,82,240)\" x=\"82\" y=\"240\" text-anchor=\"middle\" style=\"font-family: 'Open Sans', verdana, arial, sans-serif; font-size: 14px; fill: rgb(68, 68, 68); opacity: 1; font-weight: normal; white-space: pre;\">feature</text></g></g></svg>"
      ]
     },
     "metadata": {},
     "output_type": "display_data"
    }
   ],
   "source": [
    "fig = px.bar(feature_ranking, y = 'feature', x = 'Chi2 Score')\n",
    "fig.update_layout(showlegend = False, \n",
    "                  margin = {'l': 120} # to avoid cropping of column names\n",
    "                 )\n",
    "fig.show()"
   ]
  },
  {
   "cell_type": "markdown",
   "metadata": {},
   "source": [
    "Surprisingly, the total sulfur dioxide and free sulfur dioxide seem to be the most important features, whereas this didn't strike at first glance from the basic EDA."
   ]
  },
  {
   "cell_type": "markdown",
   "metadata": {},
   "source": [
    "16. Try fitting the same model using the argument class_weight=\"balanced\", what are the consequences on all the aspects of the performances studied before ?"
   ]
  },
  {
   "cell_type": "code",
   "execution_count": 38,
   "metadata": {
    "colab": {
     "base_uri": "https://localhost:8080/",
     "height": 34
    },
    "colab_type": "code",
    "executionInfo": {
     "elapsed": 707,
     "status": "ok",
     "timestamp": 1588174039931,
     "user": {
      "displayName": "Philéas Samir",
      "photoUrl": "https://lh5.googleusercontent.com/-FbBGbDYQ448/AAAAAAAAAAI/AAAAAAAAAUo/cYIvd5guwHI/s64/photo.jpg",
      "userId": "10441094633115017513"
     },
     "user_tz": -120
    },
    "id": "OQIVpFoqOyIH",
    "outputId": "4ca07de5-cf97-45cb-fd35-eb7df0e58ba8"
   },
   "outputs": [
    {
     "name": "stdout",
     "output_type": "stream",
     "text": [
      "accuracy score on training set :  0.4253322908522283\n",
      "accuracy score on test set :  0.403125\n"
     ]
    }
   ],
   "source": [
    "classifier = LogisticRegression(class_weight=\"balanced\") # takes into account the different classes' proportions\n",
    "classifier.fit(X_train, Y_train)\n",
    "Y_test_pred = classifier.predict(X_test)\n",
    "# Print accuracy\n",
    "print(\"accuracy score on training set : \", classifier.score(X_train, Y_train))\n",
    "print(\"accuracy score on test set : \", classifier.score(X_test, Y_test))"
   ]
  },
  {
   "cell_type": "code",
   "execution_count": 39,
   "metadata": {
    "colab": {
     "base_uri": "https://localhost:8080/",
     "height": 282
    },
    "colab_type": "code",
    "executionInfo": {
     "elapsed": 1243,
     "status": "ok",
     "timestamp": 1588174040629,
     "user": {
      "displayName": "Philéas Samir",
      "photoUrl": "https://lh5.googleusercontent.com/-FbBGbDYQ448/AAAAAAAAAAI/AAAAAAAAAUo/cYIvd5guwHI/s64/photo.jpg",
      "userId": "10441094633115017513"
     },
     "user_tz": -120
    },
    "id": "dhcHhUfxHFDR",
    "outputId": "d8e7eb12-5d46-44e7-82da-d852b3b55861"
   },
   "outputs": [
    {
     "data": {
      "image/png": "[encoded data removed]",
      "text/plain": [
       "<Figure size 640x480 with 2 Axes>"
      ]
     },
     "metadata": {},
     "output_type": "display_data"
    }
   ],
   "source": [
    "_ , ax = plt.subplots() # Get subplot from matplotlib\n",
    "ax.set(title=\"Confusion Matrix on Test set\") # Set a title that we will add into ConfusionMatrixDisplay\n",
    "ConfusionMatrixDisplay.from_predictions(Y_test, Y_test_pred, ax=ax) # ConfusionMatrixDisplay from sklearn\n",
    "plt.show()"
   ]
  },
  {
   "cell_type": "markdown",
   "metadata": {},
   "source": [
    "**The model's performances have been deteriorated, but now all the classes are treated with equal importances, which means that the model tries to make good predictions even for rare classes**"
   ]
  },
  {
   "cell_type": "markdown",
   "metadata": {},
   "source": [
    "21. As an extra question for which no fixed solution will be proposed, attempt to improve the score using feature engineering (create new variables using common functions, combining variables together in a non-linear way etc...)"
   ]
  }
 ],
 "metadata": {
  "colab": {
   "collapsed_sections": [],
   "name": "Vino Verde - Exercice SOLUTION.ipynb",
   "provenance": []
  },
  "interpreter": {
   "hash": "216d08ced86f1f6e0b5764233bcb18334be12ba95b6ee555f60be9cf0be8c147"
  },
  "kernelspec": {
   "display_name": "Python 3 (ipykernel)",
   "language": "python",
   "name": "python3"
  },
  "language_info": {
   "codemirror_mode": {
    "name": "ipython",
    "version": 3
   },
   "file_extension": ".py",
   "mimetype": "text/x-python",
   "name": "python",
   "nbconvert_exporter": "python",
   "pygments_lexer": "ipython3",
   "version": "3.11.5"
  }
 },
 "nbformat": 4,
 "nbformat_minor": 4
}
