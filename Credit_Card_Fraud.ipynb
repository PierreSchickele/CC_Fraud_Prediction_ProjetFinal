{
 "cells": [
  {
   "cell_type": "markdown",
   "metadata": {
    "colab_type": "text",
    "id": "imKew9_jFB95"
   },
   "source": [
    "# Credit Card Fraud"
   ]
  },
  {
   "cell_type": "markdown",
   "metadata": {},
   "source": [
    "Quels facteurs sur les transactions bancaires nous permettent de prédire une fraude à la carte bancaire ?\n",
    "\n",
    "- EDA\n",
    "- Preprocessing (ACP, feature selection)\n",
    "- Modèles :\n",
    "-* ML supervisé de classification binaire avec régression logistique, RandomForest, (régression linéaire pour les montants) ;\n",
    "-* ML non supervisé avec clustering géographique DBScan Elbow+Silhouette\n",
    "- Confrontation des résultats (quel serait le meilleur modèle pour prédire la fraude)\n",
    "- Exemple de prédiction\n",
    "- Mise en place du dashboard\n",
    "- Proposer des questions d'ouverture (pour la présentation)\n",
    "\n",
    "Si on a le temps : prédire le montant de la fraude (régression linéaire)"
   ]
  },
  {
   "cell_type": "code",
   "execution_count": 14,
   "metadata": {
    "colab": {},
    "colab_type": "code",
    "id": "75lz0VLnFdWB"
   },
   "outputs": [],
   "source": [
    "import pandas as pd\n",
    "import numpy as np\n",
    "import matplotlib.pyplot as plt\n",
    "from sklearn.model_selection import train_test_split\n",
    "from sklearn.pipeline import Pipeline\n",
    "from sklearn.impute import SimpleImputer\n",
    "from sklearn.preprocessing import  OneHotEncoder, StandardScaler, LabelEncoder\n",
    "from sklearn.compose import ColumnTransformer\n",
    "from sklearn.linear_model import LogisticRegression\n",
    "from sklearn.metrics import accuracy_score, f1_score, classification_report, RocCurveDisplay, ConfusionMatrixDisplay\n",
    "from sklearn.model_selection import cross_val_score\n",
    "from sklearn.feature_extraction.text import CountVectorizer\n",
    "from sklearn.ensemble import RandomForestClassifier\n",
    "from sklearn.model_selection import GridSearchCV\n",
    "\n",
    "from imblearn.over_sampling import SMOTE, SMOTENC\n",
    "from imblearn.under_sampling import RandomUnderSampler\n",
    "\n",
    "import plotly.express as px\n",
    "import plotly.graph_objects as go\n",
    "import plotly.io as pio\n",
    "# setting Jedha color palette as default\n",
    "pio.templates[\"jedha\"] = go.layout.Template(\n",
    "    layout_colorway=[\"#4B9AC7\", \"#4BE8E0\", \"#9DD4F3\", \"#97FBF6\", \"#2A7FAF\", \"#23B1AB\", \"#0E3449\", \"#015955\"]\n",
    ")\n",
    "pio.templates.default = \"jedha\"\n",
    "#pio.renderers.default = \"svg\" # to be replaced by \"iframe\" if working on JULIE"
   ]
  },
  {
   "cell_type": "code",
   "execution_count": 15,
   "metadata": {
    "colab": {
     "base_uri": "https://localhost:8080/",
     "height": 195
    },
    "colab_type": "code",
    "executionInfo": {
     "elapsed": 1421,
     "status": "ok",
     "timestamp": 1588173928389,
     "user": {
      "displayName": "Philéas Samir",
      "photoUrl": "https://lh5.googleusercontent.com/-FbBGbDYQ448/AAAAAAAAAAI/AAAAAAAAAUo/cYIvd5guwHI/s64/photo.jpg",
      "userId": "10441094633115017513"
     },
     "user_tz": -120
    },
    "id": "-9-p2URQEbo3",
    "outputId": "9b8ef731-cd56-49a4-f5e9-3a3950ba930f"
   },
   "outputs": [
    {
     "data": {
      "text/html": [
       "<div>\n",
       "<style scoped>\n",
       "    .dataframe tbody tr th:only-of-type {\n",
       "        vertical-align: middle;\n",
       "    }\n",
       "\n",
       "    .dataframe tbody tr th {\n",
       "        vertical-align: top;\n",
       "    }\n",
       "\n",
       "    .dataframe thead th {\n",
       "        text-align: right;\n",
       "    }\n",
       "</style>\n",
       "<table border=\"1\" class=\"dataframe\">\n",
       "  <thead>\n",
       "    <tr style=\"text-align: right;\">\n",
       "      <th></th>\n",
       "      <th>Unnamed: 0</th>\n",
       "      <th>trans_date_trans_time</th>\n",
       "      <th>cc_num</th>\n",
       "      <th>merchant</th>\n",
       "      <th>category</th>\n",
       "      <th>amt</th>\n",
       "      <th>first</th>\n",
       "      <th>last</th>\n",
       "      <th>gender</th>\n",
       "      <th>street</th>\n",
       "      <th>...</th>\n",
       "      <th>lat</th>\n",
       "      <th>long</th>\n",
       "      <th>city_pop</th>\n",
       "      <th>job</th>\n",
       "      <th>dob</th>\n",
       "      <th>trans_num</th>\n",
       "      <th>unix_time</th>\n",
       "      <th>merch_lat</th>\n",
       "      <th>merch_long</th>\n",
       "      <th>is_fraud</th>\n",
       "    </tr>\n",
       "  </thead>\n",
       "  <tbody>\n",
       "    <tr>\n",
       "      <th>0</th>\n",
       "      <td>0</td>\n",
       "      <td>21/06/2020 12:14</td>\n",
       "      <td>2.291160e+15</td>\n",
       "      <td>fraud_Kirlin and Sons</td>\n",
       "      <td>personal_care</td>\n",
       "      <td>2.86</td>\n",
       "      <td>Jeff</td>\n",
       "      <td>Elliott</td>\n",
       "      <td>M</td>\n",
       "      <td>351 Darlene Green</td>\n",
       "      <td>...</td>\n",
       "      <td>33.9659</td>\n",
       "      <td>-80.9355</td>\n",
       "      <td>333497</td>\n",
       "      <td>Mechanical engineer</td>\n",
       "      <td>19/03/1968</td>\n",
       "      <td>2da90c7d74bd46a0caf3777415b3ebd3</td>\n",
       "      <td>1371816865</td>\n",
       "      <td>33.986391</td>\n",
       "      <td>-81.200714</td>\n",
       "      <td>0</td>\n",
       "    </tr>\n",
       "    <tr>\n",
       "      <th>1</th>\n",
       "      <td>1</td>\n",
       "      <td>21/06/2020 12:14</td>\n",
       "      <td>3.573030e+15</td>\n",
       "      <td>fraud_Sporer-Keebler</td>\n",
       "      <td>personal_care</td>\n",
       "      <td>29.84</td>\n",
       "      <td>Joanne</td>\n",
       "      <td>Williams</td>\n",
       "      <td>F</td>\n",
       "      <td>3638 Marsh Union</td>\n",
       "      <td>...</td>\n",
       "      <td>40.3207</td>\n",
       "      <td>-110.4360</td>\n",
       "      <td>302</td>\n",
       "      <td>Sales professional, IT</td>\n",
       "      <td>17/01/1990</td>\n",
       "      <td>324cc204407e99f51b0d6ca0055005e7</td>\n",
       "      <td>1371816873</td>\n",
       "      <td>39.450498</td>\n",
       "      <td>-109.960431</td>\n",
       "      <td>0</td>\n",
       "    </tr>\n",
       "    <tr>\n",
       "      <th>2</th>\n",
       "      <td>2</td>\n",
       "      <td>21/06/2020 12:14</td>\n",
       "      <td>3.598220e+15</td>\n",
       "      <td>fraud_Swaniawski, Nitzsche and Welch</td>\n",
       "      <td>health_fitness</td>\n",
       "      <td>41.28</td>\n",
       "      <td>Ashley</td>\n",
       "      <td>Lopez</td>\n",
       "      <td>F</td>\n",
       "      <td>9333 Valentine Point</td>\n",
       "      <td>...</td>\n",
       "      <td>40.6729</td>\n",
       "      <td>-73.5365</td>\n",
       "      <td>34496</td>\n",
       "      <td>Librarian, public</td>\n",
       "      <td>21/10/1970</td>\n",
       "      <td>c81755dbbbea9d5c77f094348a7579be</td>\n",
       "      <td>1371816893</td>\n",
       "      <td>40.495810</td>\n",
       "      <td>-74.196111</td>\n",
       "      <td>0</td>\n",
       "    </tr>\n",
       "    <tr>\n",
       "      <th>3</th>\n",
       "      <td>3</td>\n",
       "      <td>21/06/2020 12:15</td>\n",
       "      <td>3.591920e+15</td>\n",
       "      <td>fraud_Haley Group</td>\n",
       "      <td>misc_pos</td>\n",
       "      <td>60.05</td>\n",
       "      <td>Brian</td>\n",
       "      <td>Williams</td>\n",
       "      <td>M</td>\n",
       "      <td>32941 Krystal Mill Apt. 552</td>\n",
       "      <td>...</td>\n",
       "      <td>28.5697</td>\n",
       "      <td>-80.8191</td>\n",
       "      <td>54767</td>\n",
       "      <td>Set designer</td>\n",
       "      <td>25/07/1987</td>\n",
       "      <td>2159175b9efe66dc301f149d3d5abf8c</td>\n",
       "      <td>1371816915</td>\n",
       "      <td>28.812398</td>\n",
       "      <td>-80.883061</td>\n",
       "      <td>0</td>\n",
       "    </tr>\n",
       "    <tr>\n",
       "      <th>4</th>\n",
       "      <td>4</td>\n",
       "      <td>21/06/2020 12:15</td>\n",
       "      <td>3.526830e+15</td>\n",
       "      <td>fraud_Johnston-Casper</td>\n",
       "      <td>travel</td>\n",
       "      <td>3.19</td>\n",
       "      <td>Nathan</td>\n",
       "      <td>Massey</td>\n",
       "      <td>M</td>\n",
       "      <td>5783 Evan Roads Apt. 465</td>\n",
       "      <td>...</td>\n",
       "      <td>44.2529</td>\n",
       "      <td>-85.0170</td>\n",
       "      <td>1126</td>\n",
       "      <td>Furniture designer</td>\n",
       "      <td>06/07/1955</td>\n",
       "      <td>57ff021bd3f328f8738bb535c302a31b</td>\n",
       "      <td>1371816917</td>\n",
       "      <td>44.959148</td>\n",
       "      <td>-85.884734</td>\n",
       "      <td>0</td>\n",
       "    </tr>\n",
       "  </tbody>\n",
       "</table>\n",
       "<p>5 rows × 23 columns</p>\n",
       "</div>"
      ],
      "text/plain": [
       "   Unnamed: 0 trans_date_trans_time        cc_num  \\\n",
       "0           0      21/06/2020 12:14  2.291160e+15   \n",
       "1           1      21/06/2020 12:14  3.573030e+15   \n",
       "2           2      21/06/2020 12:14  3.598220e+15   \n",
       "3           3      21/06/2020 12:15  3.591920e+15   \n",
       "4           4      21/06/2020 12:15  3.526830e+15   \n",
       "\n",
       "                               merchant        category    amt   first  \\\n",
       "0                 fraud_Kirlin and Sons   personal_care   2.86    Jeff   \n",
       "1                  fraud_Sporer-Keebler   personal_care  29.84  Joanne   \n",
       "2  fraud_Swaniawski, Nitzsche and Welch  health_fitness  41.28  Ashley   \n",
       "3                     fraud_Haley Group        misc_pos  60.05   Brian   \n",
       "4                 fraud_Johnston-Casper          travel   3.19  Nathan   \n",
       "\n",
       "       last gender                       street  ...      lat      long  \\\n",
       "0   Elliott      M            351 Darlene Green  ...  33.9659  -80.9355   \n",
       "1  Williams      F             3638 Marsh Union  ...  40.3207 -110.4360   \n",
       "2     Lopez      F         9333 Valentine Point  ...  40.6729  -73.5365   \n",
       "3  Williams      M  32941 Krystal Mill Apt. 552  ...  28.5697  -80.8191   \n",
       "4    Massey      M     5783 Evan Roads Apt. 465  ...  44.2529  -85.0170   \n",
       "\n",
       "   city_pop                     job         dob  \\\n",
       "0    333497     Mechanical engineer  19/03/1968   \n",
       "1       302  Sales professional, IT  17/01/1990   \n",
       "2     34496       Librarian, public  21/10/1970   \n",
       "3     54767            Set designer  25/07/1987   \n",
       "4      1126      Furniture designer  06/07/1955   \n",
       "\n",
       "                          trans_num   unix_time  merch_lat  merch_long  \\\n",
       "0  2da90c7d74bd46a0caf3777415b3ebd3  1371816865  33.986391  -81.200714   \n",
       "1  324cc204407e99f51b0d6ca0055005e7  1371816873  39.450498 -109.960431   \n",
       "2  c81755dbbbea9d5c77f094348a7579be  1371816893  40.495810  -74.196111   \n",
       "3  2159175b9efe66dc301f149d3d5abf8c  1371816915  28.812398  -80.883061   \n",
       "4  57ff021bd3f328f8738bb535c302a31b  1371816917  44.959148  -85.884734   \n",
       "\n",
       "   is_fraud  \n",
       "0         0  \n",
       "1         0  \n",
       "2         0  \n",
       "3         0  \n",
       "4         0  \n",
       "\n",
       "[5 rows x 23 columns]"
      ]
     },
     "execution_count": 15,
     "metadata": {},
     "output_type": "execute_result"
    }
   ],
   "source": [
    "data = pd.read_csv('src/fraud test.csv')\n",
    "data.head()"
   ]
  },
  {
   "cell_type": "code",
   "execution_count": 16,
   "metadata": {
    "colab": {
     "base_uri": "https://localhost:8080/",
     "height": 336
    },
    "colab_type": "code",
    "executionInfo": {
     "elapsed": 1384,
     "status": "ok",
     "timestamp": 1588173928392,
     "user": {
      "displayName": "Philéas Samir",
      "photoUrl": "https://lh5.googleusercontent.com/-FbBGbDYQ448/AAAAAAAAAAI/AAAAAAAAAUo/cYIvd5guwHI/s64/photo.jpg",
      "userId": "10441094633115017513"
     },
     "user_tz": -120
    },
    "id": "RWziufM-FamK",
    "outputId": "bd096f6a-950f-4583-deb6-ccf03a7324c0",
    "tags": []
   },
   "outputs": [
    {
     "name": "stdout",
     "output_type": "stream",
     "text": [
      "<class 'pandas.core.frame.DataFrame'>\n",
      "RangeIndex: 555719 entries, 0 to 555718\n",
      "Data columns (total 23 columns):\n",
      " #   Column                 Non-Null Count   Dtype  \n",
      "---  ------                 --------------   -----  \n",
      " 0   Unnamed: 0             555719 non-null  int64  \n",
      " 1   trans_date_trans_time  555719 non-null  object \n",
      " 2   cc_num                 555719 non-null  float64\n",
      " 3   merchant               555719 non-null  object \n",
      " 4   category               555719 non-null  object \n",
      " 5   amt                    555719 non-null  float64\n",
      " 6   first                  555719 non-null  object \n",
      " 7   last                   555719 non-null  object \n",
      " 8   gender                 555719 non-null  object \n",
      " 9   street                 555719 non-null  object \n",
      " 10  city                   555719 non-null  object \n",
      " 11  state                  555719 non-null  object \n",
      " 12  zip                    555719 non-null  int64  \n",
      " 13  lat                    555719 non-null  float64\n",
      " 14  long                   555719 non-null  float64\n",
      " 15  city_pop               555719 non-null  int64  \n",
      " 16  job                    555719 non-null  object \n",
      " 17  dob                    555719 non-null  object \n",
      " 18  trans_num              555719 non-null  object \n",
      " 19  unix_time              555719 non-null  int64  \n",
      " 20  merch_lat              555719 non-null  float64\n",
      " 21  merch_long             555719 non-null  float64\n",
      " 22  is_fraud               555719 non-null  int64  \n",
      "dtypes: float64(6), int64(5), object(12)\n",
      "memory usage: 97.5+ MB\n"
     ]
    }
   ],
   "source": [
    "data.info()"
   ]
  },
  {
   "cell_type": "code",
   "execution_count": 3,
   "metadata": {},
   "outputs": [
    {
     "data": {
      "text/plain": [
       "is_fraud\n",
       "0    553574\n",
       "1      2145\n",
       "Name: count, dtype: int64"
      ]
     },
     "execution_count": 3,
     "metadata": {},
     "output_type": "execute_result"
    }
   ],
   "source": [
    "data['is_fraud'].value_counts()"
   ]
  },
  {
   "cell_type": "code",
   "execution_count": 36,
   "metadata": {},
   "outputs": [
    {
     "data": {
      "text/plain": [
       "0.0038598644278853163"
      ]
     },
     "execution_count": 36,
     "metadata": {},
     "output_type": "execute_result"
    }
   ],
   "source": [
    "2145/(553574+2145)"
   ]
  },
  {
   "cell_type": "code",
   "execution_count": 4,
   "metadata": {},
   "outputs": [
    {
     "data": {
      "text/plain": [
       "(555719, 23)"
      ]
     },
     "execution_count": 4,
     "metadata": {},
     "output_type": "execute_result"
    }
   ],
   "source": [
    "data.shape"
   ]
  },
  {
   "cell_type": "markdown",
   "metadata": {},
   "source": [
    "#### Cleansing"
   ]
  },
  {
   "cell_type": "code",
   "execution_count": 17,
   "metadata": {},
   "outputs": [],
   "source": [
    "def data_cleanse(data_sample):\n",
    "    '''On retire les colonnes qui ne sont pas pertinentes\n",
    "        cc_num, trans_num, first, last et {city, state, street, zip} = infos individuelles trop de valeurs différentes\n",
    "        merchant = idem\n",
    "        Unnamed: 0 = index, des identifiants donc à supprimer\n",
    "        unix_time = temps Unix, redondant'''\n",
    "    colonne_a_retirer = ['cc_num', 'first', 'last', 'city', 'state', 'street', 'zip', 'trans_num', 'Unnamed: 0', 'merchant', 'unix_time', 'lat', 'long']\n",
    "    df = data_sample.drop(colonne_a_retirer, axis=1)\n",
    "    df[\"trans_date_trans_time\"]=pd.to_datetime(df[\"trans_date_trans_time\"], format= \"%d/%m/%Y %H:%M\")\n",
    "    df[\"dob\"]=pd.to_datetime(df[\"dob\"], format= \"%d/%m/%Y\")\n",
    "\n",
    "    annee_actuelle = pd.Timestamp.now().year\n",
    "    df['age'] = annee_actuelle - df[\"dob\"].dt.year\n",
    "\n",
    "    df[\"day_of_the_week\"]=df[\"trans_date_trans_time\"].dt.weekday\n",
    "    df[\"month\"]=df[\"trans_date_trans_time\"].dt.month\n",
    "    df[\"day\"]=df[\"trans_date_trans_time\"].dt.day\n",
    "    df[\"year\"]=df[\"trans_date_trans_time\"].dt.year\n",
    "    df[\"hour\"]=df[\"trans_date_trans_time\"].dt.hour\n",
    "\n",
    "    colonne_a_retirer = ['trans_date_trans_time', 'dob']\n",
    "    df = df.drop(colonne_a_retirer, axis=1)\n",
    "    return df"
   ]
  },
  {
   "cell_type": "markdown",
   "metadata": {},
   "source": [
    "#### Sample"
   ]
  },
  {
   "cell_type": "code",
   "execution_count": 7,
   "metadata": {},
   "outputs": [
    {
     "name": "stdout",
     "output_type": "stream",
     "text": [
      "is_fraud\n",
      "0    55359\n",
      "1      213\n",
      "Name: count, dtype: int64\n"
     ]
    }
   ],
   "source": [
    "# Sample en conservant la proportion de is_fraud=0 et de is_fraud=1\n",
    "data_sample = data.sample(frac=0.1, random_state=0)\n",
    "print(data_sample['is_fraud'].value_counts())\n",
    "\n",
    "df = data_cleanse(data_sample)"
   ]
  },
  {
   "cell_type": "markdown",
   "metadata": {},
   "source": [
    "## Prédiction des fraudes"
   ]
  },
  {
   "cell_type": "markdown",
   "metadata": {},
   "source": [
    "### Preprocessing"
   ]
  },
  {
   "cell_type": "code",
   "execution_count": 43,
   "metadata": {},
   "outputs": [],
   "source": [
    "categorical_features = ['category', 'gender']\n",
    "numerical_features = ['age', 'day', 'month', 'day_of_the_week', 'city_pop', 'merch_lat', 'merch_long']\n",
    "features = categorical_features + numerical_features\n",
    "target = 'is_fraud'\n",
    "\n",
    "categorical_transformer = Pipeline(\n",
    "    steps=[(\"encoder\", OneHotEncoder(drop=\"first\"))]\n",
    ")\n",
    "\n",
    "numeric_transformer = Pipeline(\n",
    "    steps=[(\"scaler\", StandardScaler())]\n",
    ")\n",
    "\n",
    "preprocessor = ColumnTransformer([\n",
    "    ('categorical', categorical_transformer, categorical_features),\n",
    "    ('numerical', numeric_transformer, numerical_features)\n",
    "])\n",
    "\n",
    "X = df.loc[:,features]\n",
    "y = df.loc[:,target]"
   ]
  },
  {
   "cell_type": "markdown",
   "metadata": {},
   "source": [
    "### Baseline : régression logistique"
   ]
  },
  {
   "cell_type": "markdown",
   "metadata": {},
   "source": [
    "- En catégorielles on choisit de conserver uniquement la catégorie et le genre.\n",
    "- En numériques on choisit l'âge, le jour, le mois, le jour de la semaine, la population de la ville, les latitudes et les longitudes de la transaction."
   ]
  },
  {
   "cell_type": "code",
   "execution_count": 52,
   "metadata": {},
   "outputs": [],
   "source": [
    "X_train, X_test, y_train, y_test = train_test_split(X, y, train_size=0.7, random_state=0, stratify=y)"
   ]
  },
  {
   "cell_type": "code",
   "execution_count": 53,
   "metadata": {},
   "outputs": [],
   "source": [
    "X_train = preprocessor.fit_transform(X_train)\n",
    "X_test = preprocessor.transform(X_test)"
   ]
  },
  {
   "cell_type": "code",
   "execution_count": 54,
   "metadata": {},
   "outputs": [
    {
     "name": "stdout",
     "output_type": "stream",
     "text": [
      "Train model...\n",
      "...Done.\n"
     ]
    }
   ],
   "source": [
    "print(\"Train model...\")\n",
    "baseline_clf = LogisticRegression(class_weight='balanced', max_iter=1000)\n",
    "baseline_clf.fit(X_train, y_train)\n",
    "print(\"...Done.\")"
   ]
  },
  {
   "cell_type": "code",
   "execution_count": 55,
   "metadata": {},
   "outputs": [
    {
     "name": "stdout",
     "output_type": "stream",
     "text": [
      "accuracy score on training set :  0.7003341902313625\n",
      "accuracy score on test set :  0.7036348368522073\n"
     ]
    }
   ],
   "source": [
    "print(\"accuracy score on training set : \", baseline_clf.score(X_train, y_train))\n",
    "print(\"accuracy score on test set : \", baseline_clf.score(X_test, y_test))"
   ]
  },
  {
   "cell_type": "code",
   "execution_count": 56,
   "metadata": {},
   "outputs": [
    {
     "name": "stdout",
     "output_type": "stream",
     "text": [
      "              precision    recall  f1-score   support\n",
      "\n",
      "           0       1.00      0.70      0.82     38751\n",
      "           1       0.01      0.72      0.02       149\n",
      "\n",
      "    accuracy                           0.70     38900\n",
      "   macro avg       0.50      0.71      0.42     38900\n",
      "weighted avg       0.99      0.70      0.82     38900\n",
      "\n"
     ]
    }
   ],
   "source": [
    "y_train_pred = baseline_clf.predict(X_train)\n",
    "print(classification_report(y_train, y_train_pred))"
   ]
  },
  {
   "cell_type": "code",
   "execution_count": 57,
   "metadata": {},
   "outputs": [
    {
     "name": "stdout",
     "output_type": "stream",
     "text": [
      "10-fold cross-validation...\n",
      "The cross-validated accuracy is :  0.7007455012853471\n",
      "The standard deviation is :  0.011938902269816308\n"
     ]
    }
   ],
   "source": [
    "# Perform 10-fold cross-validation \n",
    "print(\"10-fold cross-validation...\")\n",
    "scores = cross_val_score(baseline_clf, X_train, y_train, cv=10)\n",
    "print('The cross-validated accuracy is : ', scores.mean())\n",
    "print('The standard deviation is : ', scores.std())"
   ]
  },
  {
   "cell_type": "code",
   "execution_count": 58,
   "metadata": {},
   "outputs": [],
   "source": [
    "column_names = []\n",
    "for name, pipeline, features_list in preprocessor.transformers_: # loop over pipelines\n",
    "    if name == 'numerical': # if pipeline is for numeric variables\n",
    "        features = features_list # just get the names of columns to which it has been applied\n",
    "    else: # if pipeline is for categorical variables\n",
    "        features = pipeline.named_steps['encoder'].get_feature_names_out() # get output columns names from OneHotEncoder\n",
    "    column_names.extend(features) # concatenate features names"
   ]
  },
  {
   "cell_type": "code",
   "execution_count": 59,
   "metadata": {},
   "outputs": [
    {
     "data": {
      "text/html": [
       "<div>\n",
       "<style scoped>\n",
       "    .dataframe tbody tr th:only-of-type {\n",
       "        vertical-align: middle;\n",
       "    }\n",
       "\n",
       "    .dataframe tbody tr th {\n",
       "        vertical-align: top;\n",
       "    }\n",
       "\n",
       "    .dataframe thead th {\n",
       "        text-align: right;\n",
       "    }\n",
       "</style>\n",
       "<table border=\"1\" class=\"dataframe\">\n",
       "  <thead>\n",
       "    <tr style=\"text-align: right;\">\n",
       "      <th></th>\n",
       "      <th>coefficients</th>\n",
       "    </tr>\n",
       "  </thead>\n",
       "  <tbody>\n",
       "    <tr>\n",
       "      <th>category_misc_net</th>\n",
       "      <td>1.791572</td>\n",
       "    </tr>\n",
       "    <tr>\n",
       "      <th>category_grocery_pos</th>\n",
       "      <td>1.779283</td>\n",
       "    </tr>\n",
       "    <tr>\n",
       "      <th>category_shopping_net</th>\n",
       "      <td>1.764661</td>\n",
       "    </tr>\n",
       "    <tr>\n",
       "      <th>category_health_fitness</th>\n",
       "      <td>-1.709381</td>\n",
       "    </tr>\n",
       "    <tr>\n",
       "      <th>category_home</th>\n",
       "      <td>-1.246979</td>\n",
       "    </tr>\n",
       "    <tr>\n",
       "      <th>category_personal_care</th>\n",
       "      <td>-1.169552</td>\n",
       "    </tr>\n",
       "    <tr>\n",
       "      <th>category_grocery_net</th>\n",
       "      <td>-0.978361</td>\n",
       "    </tr>\n",
       "    <tr>\n",
       "      <th>category_gas_transport</th>\n",
       "      <td>0.608970</td>\n",
       "    </tr>\n",
       "    <tr>\n",
       "      <th>category_travel</th>\n",
       "      <td>-0.432478</td>\n",
       "    </tr>\n",
       "    <tr>\n",
       "      <th>category_shopping_pos</th>\n",
       "      <td>0.395818</td>\n",
       "    </tr>\n",
       "    <tr>\n",
       "      <th>day_of_the_week</th>\n",
       "      <td>0.386375</td>\n",
       "    </tr>\n",
       "    <tr>\n",
       "      <th>day</th>\n",
       "      <td>-0.364696</td>\n",
       "    </tr>\n",
       "    <tr>\n",
       "      <th>month</th>\n",
       "      <td>-0.211359</td>\n",
       "    </tr>\n",
       "    <tr>\n",
       "      <th>city_pop</th>\n",
       "      <td>-0.188463</td>\n",
       "    </tr>\n",
       "    <tr>\n",
       "      <th>merch_lat</th>\n",
       "      <td>0.188074</td>\n",
       "    </tr>\n",
       "    <tr>\n",
       "      <th>category_misc_pos</th>\n",
       "      <td>0.160131</td>\n",
       "    </tr>\n",
       "    <tr>\n",
       "      <th>age</th>\n",
       "      <td>0.134609</td>\n",
       "    </tr>\n",
       "    <tr>\n",
       "      <th>category_food_dining</th>\n",
       "      <td>0.120652</td>\n",
       "    </tr>\n",
       "    <tr>\n",
       "      <th>merch_long</th>\n",
       "      <td>0.058276</td>\n",
       "    </tr>\n",
       "    <tr>\n",
       "      <th>gender_M</th>\n",
       "      <td>-0.054114</td>\n",
       "    </tr>\n",
       "    <tr>\n",
       "      <th>category_kids_pets</th>\n",
       "      <td>-0.001379</td>\n",
       "    </tr>\n",
       "  </tbody>\n",
       "</table>\n",
       "</div>"
      ],
      "text/plain": [
       "                         coefficients\n",
       "category_misc_net            1.791572\n",
       "category_grocery_pos         1.779283\n",
       "category_shopping_net        1.764661\n",
       "category_health_fitness     -1.709381\n",
       "category_home               -1.246979\n",
       "category_personal_care      -1.169552\n",
       "category_grocery_net        -0.978361\n",
       "category_gas_transport       0.608970\n",
       "category_travel             -0.432478\n",
       "category_shopping_pos        0.395818\n",
       "day_of_the_week              0.386375\n",
       "day                         -0.364696\n",
       "month                       -0.211359\n",
       "city_pop                    -0.188463\n",
       "merch_lat                    0.188074\n",
       "category_misc_pos            0.160131\n",
       "age                          0.134609\n",
       "category_food_dining         0.120652\n",
       "merch_long                   0.058276\n",
       "gender_M                    -0.054114\n",
       "category_kids_pets          -0.001379"
      ]
     },
     "execution_count": 59,
     "metadata": {},
     "output_type": "execute_result"
    }
   ],
   "source": [
    "# Create a pandas DataFrame\n",
    "coefs = pd.DataFrame(index = column_names,\n",
    "                     data = baseline_clf.coef_.transpose(), \n",
    "                     columns=[\"coefficients\"]).sort_values(by='coefficients', key=abs, ascending=False)\n",
    "coefs"
   ]
  },
  {
   "cell_type": "code",
   "execution_count": 60,
   "metadata": {},
   "outputs": [
    {
     "data": {
      "image/png": "[encoded data removed]",
      "text/plain": [
       "<Figure size 640x480 with 2 Axes>"
      ]
     },
     "metadata": {},
     "output_type": "display_data"
    },
    {
     "data": {
      "image/png": "[encoded data removed]",
      "text/plain": [
       "<Figure size 640x480 with 2 Axes>"
      ]
     },
     "metadata": {},
     "output_type": "display_data"
    }
   ],
   "source": [
    "# Visualize confusion matrices\n",
    "_ , ax = plt.subplots() # Get subplot from matplotlib\n",
    "ax.set(title=\"Confusion Matrix on Train set\") # Set a title that we will add into ConfusionMatrixDisplay\n",
    "ConfusionMatrixDisplay.from_estimator(baseline_clf, X_train, y_train, ax=ax) # ConfusionMatrixDisplay from sklearn\n",
    "plt.show()\n",
    "\n",
    "_ , ax = plt.subplots() # Get subplot from matplotlib\n",
    "ax.set(title=\"Confusion Matrix on Test set\") # Set a title that we will add into ConfusionMatrixDisplay\n",
    "ConfusionMatrixDisplay.from_estimator(baseline_clf, X_test, y_test, ax=ax) # ConfusionMatrixDisplay from sklearn\n",
    "plt.show()"
   ]
  },
  {
   "cell_type": "markdown",
   "metadata": {},
   "source": [
    "Beaucoup trop de faux positifs (precision = 0.01) : il faut réduire le nombre de 0 réels qui sont prédits 1 (4917)"
   ]
  },
  {
   "cell_type": "markdown",
   "metadata": {},
   "source": [
    "### Model selection evaluation"
   ]
  },
  {
   "cell_type": "markdown",
   "metadata": {},
   "source": [
    "On reprend les preprocessings du baseline model"
   ]
  },
  {
   "cell_type": "markdown",
   "metadata": {},
   "source": [
    "#### Random Forest"
   ]
  },
  {
   "cell_type": "code",
   "execution_count": 61,
   "metadata": {},
   "outputs": [],
   "source": [
    "X_train, X_test, y_train, y_test = train_test_split(X, y, train_size=0.7, random_state=0, stratify=y)"
   ]
  },
  {
   "cell_type": "code",
   "execution_count": 62,
   "metadata": {},
   "outputs": [],
   "source": [
    "X_train = preprocessor.fit_transform(X_train)\n",
    "X_test = preprocessor.transform(X_test)"
   ]
  },
  {
   "cell_type": "code",
   "execution_count": 63,
   "metadata": {},
   "outputs": [
    {
     "name": "stdout",
     "output_type": "stream",
     "text": [
      "Grid search...\n",
      "...Done.\n",
      "Best hyperparameters :  {'max_depth': 15, 'min_samples_leaf': 5, 'min_samples_split': 16, 'n_estimators': 50}\n",
      "Best validation F1-score :  0.07205882352941176\n"
     ]
    }
   ],
   "source": [
    "# Perform grid search\n",
    "from sklearn.ensemble import RandomForestClassifier\n",
    "from sklearn.model_selection import GridSearchCV\n",
    "\n",
    "print(\"Grid search...\")\n",
    "classifier = RandomForestClassifier(class_weight='balanced')\n",
    "\n",
    "# Grid of values to be tested\n",
    "params = {\n",
    "    \"max_depth\": [15],\n",
    "    \"min_samples_leaf\": [5],\n",
    "    \"min_samples_split\": [16],\n",
    "    \"n_estimators\": [50],\n",
    "}\n",
    "gridsearch = GridSearchCV(\n",
    "    classifier, param_grid=params, cv=5, scoring='f1'\n",
    ")  # cv : the number of folds to be used for CV\n",
    "gridsearch.fit(X_train, y_train)\n",
    "print(\"...Done.\")\n",
    "print(\"Best hyperparameters : \", gridsearch.best_params_)\n",
    "print(\"Best validation F1-score : \", gridsearch.best_score_)"
   ]
  },
  {
   "cell_type": "code",
   "execution_count": 64,
   "metadata": {},
   "outputs": [
    {
     "name": "stdout",
     "output_type": "stream",
     "text": [
      "              precision    recall  f1-score   support\n",
      "\n",
      "           0       1.00      1.00      1.00     38751\n",
      "           1       0.95      0.97      0.96       149\n",
      "\n",
      "    accuracy                           1.00     38900\n",
      "   macro avg       0.97      0.98      0.98     38900\n",
      "weighted avg       1.00      1.00      1.00     38900\n",
      "\n"
     ]
    }
   ],
   "source": [
    "y_train_pred = gridsearch.predict(X_train)\n",
    "print(classification_report(y_train, y_train_pred))"
   ]
  },
  {
   "cell_type": "code",
   "execution_count": 65,
   "metadata": {},
   "outputs": [
    {
     "name": "stdout",
     "output_type": "stream",
     "text": [
      "              precision    recall  f1-score   support\n",
      "\n",
      "           0       1.00      1.00      1.00     16608\n",
      "           1       0.40      0.03      0.06        64\n",
      "\n",
      "    accuracy                           1.00     16672\n",
      "   macro avg       0.70      0.52      0.53     16672\n",
      "weighted avg       0.99      1.00      0.99     16672\n",
      "\n"
     ]
    }
   ],
   "source": [
    "y_test_pred = gridsearch.predict(X_test)\n",
    "print(classification_report(y_test, y_test_pred))"
   ]
  },
  {
   "cell_type": "code",
   "execution_count": 66,
   "metadata": {},
   "outputs": [
    {
     "data": {
      "image/png": "[encoded data removed]",
      "text/plain": [
       "<Figure size 640x480 with 2 Axes>"
      ]
     },
     "metadata": {},
     "output_type": "display_data"
    },
    {
     "data": {
      "image/png": "[encoded data removed]",
      "text/plain": [
       "<Figure size 640x480 with 2 Axes>"
      ]
     },
     "metadata": {},
     "output_type": "display_data"
    }
   ],
   "source": [
    "# Visualize confusion matrices\n",
    "_ , ax = plt.subplots() # Get subplot from matplotlib\n",
    "ax.set(title=\"Confusion Matrix on Train set\") # Set a title that we will add into ConfusionMatrixDisplay\n",
    "ConfusionMatrixDisplay.from_estimator(gridsearch, X_train, y_train, ax=ax) # ConfusionMatrixDisplay from sklearn\n",
    "plt.show()\n",
    "\n",
    "_ , ax = plt.subplots() # Get subplot from matplotlib\n",
    "ax.set(title=\"Confusion Matrix on Test set\") # Set a title that we will add into ConfusionMatrixDisplay\n",
    "ConfusionMatrixDisplay.from_estimator(gridsearch, X_test, y_test, ax=ax) # ConfusionMatrixDisplay from sklearn\n",
    "plt.show()"
   ]
  },
  {
   "cell_type": "markdown",
   "metadata": {},
   "source": [
    "Il y a overfitting => on doit enlever des colonnes qui n'influent pas trop sur le résultat"
   ]
  },
  {
   "cell_type": "code",
   "execution_count": 38,
   "metadata": {},
   "outputs": [
    {
     "data": {
      "application/vnd.plotly.v1+json": {
       "config": {
        "plotlyServerURL": "https://plot.ly"
       },
       "data": [
        {
         "alignmentgroup": "True",
         "hovertemplate": "variable=feature_importances<br>value=%{x}<br>index=%{y}<extra></extra>",
         "legendgroup": "feature_importances",
         "marker": {
          "color": "#4B9AC7",
          "pattern": {
           "shape": ""
          }
         },
         "name": "feature_importances",
         "offsetgroup": "feature_importances",
         "orientation": "h",
         "showlegend": true,
         "textposition": "auto",
         "type": "bar",
         "x": [
          0.0022737514398868666,
          0.004497364692491068,
          0.004876494217120862,
          0.0052441686425256815,
          0.007379734718021662,
          0.007624696721605001,
          0.008022043381738996,
          0.011903266890309185,
          0.012690038870907873,
          0.015697196264810327,
          0.018400437378546984,
          0.026988776166099203,
          0.052613576083151634,
          0.053990378836115176,
          0.06539463924239501,
          0.09984779760900594,
          0.10025702230489483,
          0.1129072537231764,
          0.12832104367718664,
          0.1284550767647007,
          0.1326152423753101
         ],
         "xaxis": "x",
         "y": [
          "category_travel",
          "category_grocery_net",
          "category_misc_pos",
          "category_food_dining",
          "category_gas_transport",
          "category_kids_pets",
          "category_personal_care",
          "category_shopping_pos",
          "category_health_fitness",
          "category_home",
          "gender_M",
          "category_misc_net",
          "category_grocery_pos",
          "category_shopping_net",
          "month",
          "day",
          "day_of_the_week",
          "age",
          "merch_long",
          "merch_lat",
          "city_pop"
         ],
         "yaxis": "y"
        }
       ],
       "layout": {
        "barmode": "relative",
        "legend": {
         "title": {
          "text": "variable"
         },
         "tracegroupgap": 0
        },
        "margin": {
         "l": 120,
         "t": 60
        },
        "showlegend": false,
        "template": {
         "layout": {
          "colorway": [
           "#4B9AC7",
           "#4BE8E0",
           "#9DD4F3",
           "#97FBF6",
           "#2A7FAF",
           "#23B1AB",
           "#0E3449",
           "#015955"
          ]
         }
        },
        "xaxis": {
         "anchor": "y",
         "domain": [
          0,
          1
         ],
         "title": {
          "text": "value"
         }
        },
        "yaxis": {
         "anchor": "x",
         "domain": [
          0,
          1
         ],
         "title": {
          "text": "index"
         }
        }
       }
      }
     },
     "metadata": {},
     "output_type": "display_data"
    }
   ],
   "source": [
    "column_names = []\n",
    "for (\n",
    "    name,\n",
    "    step,\n",
    "    features_list,\n",
    ") in preprocessor.transformers_:  # loop over steps of ColumnTransformer\n",
    "    if name == \"num\":  # if pipeline is for numeric variables\n",
    "        features = (\n",
    "            features_list  # just get the names of columns to which it has been applied\n",
    "        )\n",
    "    else:  # if pipeline is for categorical variables\n",
    "        features = (\n",
    "            step.get_feature_names_out()\n",
    "        )  # get output columns names from OneHotEncoder\n",
    "    column_names.extend(features)  # concatenate features names\n",
    "\n",
    "# Create a pandas DataFrame\n",
    "feature_importance = pd.DataFrame(\n",
    "    index=column_names,\n",
    "    data=gridsearch.best_estimator_.feature_importances_,\n",
    "    columns=[\"feature_importances\"],\n",
    ")\n",
    "feature_importance = feature_importance.sort_values(by=\"feature_importances\")\n",
    "\n",
    "# Plot coefficients\n",
    "fig = px.bar(feature_importance, orientation=\"h\")\n",
    "fig.update_layout(\n",
    "    showlegend=False, margin={\"l\": 120}  # to avoid cropping of column names\n",
    ")\n",
    "fig.show()"
   ]
  },
  {
   "cell_type": "markdown",
   "metadata": {},
   "source": [
    "#### SVM"
   ]
  },
  {
   "cell_type": "code",
   "execution_count": null,
   "metadata": {},
   "outputs": [],
   "source": [
    "svc = SVC(kernel = 'linear', probability = True) # set probability to True if you plan to use predict_proba()\n",
    "svc.fit(X_train, Y_train)"
   ]
  }
 ],
 "metadata": {
  "colab": {
   "collapsed_sections": [],
   "name": "Vino Verde - Exercice SOLUTION.ipynb",
   "provenance": []
  },
  "interpreter": {
   "hash": "216d08ced86f1f6e0b5764233bcb18334be12ba95b6ee555f60be9cf0be8c147"
  },
  "kernelspec": {
   "display_name": "Python 3 (ipykernel)",
   "language": "python",
   "name": "python3"
  },
  "language_info": {
   "codemirror_mode": {
    "name": "ipython",
    "version": 3
   },
   "file_extension": ".py",
   "mimetype": "text/x-python",
   "name": "python",
   "nbconvert_exporter": "python",
   "pygments_lexer": "ipython3",
   "version": "3.11.5"
  }
 },
 "nbformat": 4,
 "nbformat_minor": 4
}
